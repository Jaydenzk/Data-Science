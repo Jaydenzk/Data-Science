{
  "nbformat": 4,
  "nbformat_minor": 0,
  "metadata": {
    "colab": {
      "name": "AirBnB_Berlin.ipynb",
      "provenance": [],
      "collapsed_sections": []
    },
    "kernelspec": {
      "name": "python3",
      "display_name": "Python 3"
    },
    "accelerator": "GPU"
  },
  "cells": [
    {
      "cell_type": "code",
      "metadata": {
        "id": "9TNQwtduWErY",
        "colab_type": "code",
        "outputId": "94abf47a-23ce-471b-e559-f8b015ed912c",
        "colab": {
          "base_uri": "https://localhost:8080/",
          "height": 467
        }
      },
      "source": [
        "pip install geopandas"
      ],
      "execution_count": 0,
      "outputs": [
        {
          "output_type": "stream",
          "text": [
            "Collecting geopandas\n",
            "\u001b[?25l  Downloading https://files.pythonhosted.org/packages/83/c5/3cf9cdc39a6f2552922f79915f36b45a95b71fd343cfc51170a5b6ddb6e8/geopandas-0.7.0-py2.py3-none-any.whl (928kB)\n",
            "\r\u001b[K     |▍                               | 10kB 19.6MB/s eta 0:00:01\r\u001b[K     |▊                               | 20kB 21.8MB/s eta 0:00:01\r\u001b[K     |█                               | 30kB 27.2MB/s eta 0:00:01\r\u001b[K     |█▍                              | 40kB 30.5MB/s eta 0:00:01\r\u001b[K     |█▊                              | 51kB 33.0MB/s eta 0:00:01\r\u001b[K     |██▏                             | 61kB 36.6MB/s eta 0:00:01\r\u001b[K     |██▌                             | 71kB 38.8MB/s eta 0:00:01\r\u001b[K     |██▉                             | 81kB 40.0MB/s eta 0:00:01\r\u001b[K     |███▏                            | 92kB 40.8MB/s eta 0:00:01\r\u001b[K     |███▌                            | 102kB 42.0MB/s eta 0:00:01\r\u001b[K     |███▉                            | 112kB 42.0MB/s eta 0:00:01\r\u001b[K     |████▎                           | 122kB 42.0MB/s eta 0:00:01\r\u001b[K     |████▋                           | 133kB 42.0MB/s eta 0:00:01\r\u001b[K     |█████                           | 143kB 42.0MB/s eta 0:00:01\r\u001b[K     |█████▎                          | 153kB 42.0MB/s eta 0:00:01\r\u001b[K     |█████▋                          | 163kB 42.0MB/s eta 0:00:01\r\u001b[K     |██████                          | 174kB 42.0MB/s eta 0:00:01\r\u001b[K     |██████▍                         | 184kB 42.0MB/s eta 0:00:01\r\u001b[K     |██████▊                         | 194kB 42.0MB/s eta 0:00:01\r\u001b[K     |███████                         | 204kB 42.0MB/s eta 0:00:01\r\u001b[K     |███████▍                        | 215kB 42.0MB/s eta 0:00:01\r\u001b[K     |███████▊                        | 225kB 42.0MB/s eta 0:00:01\r\u001b[K     |████████▏                       | 235kB 42.0MB/s eta 0:00:01\r\u001b[K     |████████▌                       | 245kB 42.0MB/s eta 0:00:01\r\u001b[K     |████████▉                       | 256kB 42.0MB/s eta 0:00:01\r\u001b[K     |█████████▏                      | 266kB 42.0MB/s eta 0:00:01\r\u001b[K     |█████████▌                      | 276kB 42.0MB/s eta 0:00:01\r\u001b[K     |█████████▉                      | 286kB 42.0MB/s eta 0:00:01\r\u001b[K     |██████████▎                     | 296kB 42.0MB/s eta 0:00:01\r\u001b[K     |██████████▋                     | 307kB 42.0MB/s eta 0:00:01\r\u001b[K     |███████████                     | 317kB 42.0MB/s eta 0:00:01\r\u001b[K     |███████████▎                    | 327kB 42.0MB/s eta 0:00:01\r\u001b[K     |███████████▋                    | 337kB 42.0MB/s eta 0:00:01\r\u001b[K     |████████████                    | 348kB 42.0MB/s eta 0:00:01\r\u001b[K     |████████████▍                   | 358kB 42.0MB/s eta 0:00:01\r\u001b[K     |████████████▊                   | 368kB 42.0MB/s eta 0:00:01\r\u001b[K     |█████████████                   | 378kB 42.0MB/s eta 0:00:01\r\u001b[K     |█████████████▍                  | 389kB 42.0MB/s eta 0:00:01\r\u001b[K     |█████████████▊                  | 399kB 42.0MB/s eta 0:00:01\r\u001b[K     |██████████████▏                 | 409kB 42.0MB/s eta 0:00:01\r\u001b[K     |██████████████▌                 | 419kB 42.0MB/s eta 0:00:01\r\u001b[K     |██████████████▉                 | 430kB 42.0MB/s eta 0:00:01\r\u001b[K     |███████████████▏                | 440kB 42.0MB/s eta 0:00:01\r\u001b[K     |███████████████▌                | 450kB 42.0MB/s eta 0:00:01\r\u001b[K     |███████████████▉                | 460kB 42.0MB/s eta 0:00:01\r\u001b[K     |████████████████▎               | 471kB 42.0MB/s eta 0:00:01\r\u001b[K     |████████████████▋               | 481kB 42.0MB/s eta 0:00:01\r\u001b[K     |█████████████████               | 491kB 42.0MB/s eta 0:00:01\r\u001b[K     |█████████████████▎              | 501kB 42.0MB/s eta 0:00:01\r\u001b[K     |█████████████████▋              | 512kB 42.0MB/s eta 0:00:01\r\u001b[K     |██████████████████              | 522kB 42.0MB/s eta 0:00:01\r\u001b[K     |██████████████████▍             | 532kB 42.0MB/s eta 0:00:01\r\u001b[K     |██████████████████▊             | 542kB 42.0MB/s eta 0:00:01\r\u001b[K     |███████████████████             | 552kB 42.0MB/s eta 0:00:01\r\u001b[K     |███████████████████▍            | 563kB 42.0MB/s eta 0:00:01\r\u001b[K     |███████████████████▊            | 573kB 42.0MB/s eta 0:00:01\r\u001b[K     |████████████████████▏           | 583kB 42.0MB/s eta 0:00:01\r\u001b[K     |████████████████████▌           | 593kB 42.0MB/s eta 0:00:01\r\u001b[K     |████████████████████▉           | 604kB 42.0MB/s eta 0:00:01\r\u001b[K     |█████████████████████▏          | 614kB 42.0MB/s eta 0:00:01\r\u001b[K     |█████████████████████▌          | 624kB 42.0MB/s eta 0:00:01\r\u001b[K     |██████████████████████          | 634kB 42.0MB/s eta 0:00:01\r\u001b[K     |██████████████████████▎         | 645kB 42.0MB/s eta 0:00:01\r\u001b[K     |██████████████████████▋         | 655kB 42.0MB/s eta 0:00:01\r\u001b[K     |███████████████████████         | 665kB 42.0MB/s eta 0:00:01\r\u001b[K     |███████████████████████▎        | 675kB 42.0MB/s eta 0:00:01\r\u001b[K     |███████████████████████▋        | 686kB 42.0MB/s eta 0:00:01\r\u001b[K     |████████████████████████        | 696kB 42.0MB/s eta 0:00:01\r\u001b[K     |████████████████████████▍       | 706kB 42.0MB/s eta 0:00:01\r\u001b[K     |████████████████████████▊       | 716kB 42.0MB/s eta 0:00:01\r\u001b[K     |█████████████████████████       | 727kB 42.0MB/s eta 0:00:01\r\u001b[K     |█████████████████████████▍      | 737kB 42.0MB/s eta 0:00:01\r\u001b[K     |█████████████████████████▊      | 747kB 42.0MB/s eta 0:00:01\r\u001b[K     |██████████████████████████▏     | 757kB 42.0MB/s eta 0:00:01\r\u001b[K     |██████████████████████████▌     | 768kB 42.0MB/s eta 0:00:01\r\u001b[K     |██████████████████████████▉     | 778kB 42.0MB/s eta 0:00:01\r\u001b[K     |███████████████████████████▏    | 788kB 42.0MB/s eta 0:00:01\r\u001b[K     |███████████████████████████▌    | 798kB 42.0MB/s eta 0:00:01\r\u001b[K     |████████████████████████████    | 808kB 42.0MB/s eta 0:00:01\r\u001b[K     |████████████████████████████▎   | 819kB 42.0MB/s eta 0:00:01\r\u001b[K     |████████████████████████████▋   | 829kB 42.0MB/s eta 0:00:01\r\u001b[K     |█████████████████████████████   | 839kB 42.0MB/s eta 0:00:01\r\u001b[K     |█████████████████████████████▎  | 849kB 42.0MB/s eta 0:00:01\r\u001b[K     |█████████████████████████████▋  | 860kB 42.0MB/s eta 0:00:01\r\u001b[K     |██████████████████████████████  | 870kB 42.0MB/s eta 0:00:01\r\u001b[K     |██████████████████████████████▍ | 880kB 42.0MB/s eta 0:00:01\r\u001b[K     |██████████████████████████████▊ | 890kB 42.0MB/s eta 0:00:01\r\u001b[K     |███████████████████████████████ | 901kB 42.0MB/s eta 0:00:01\r\u001b[K     |███████████████████████████████▍| 911kB 42.0MB/s eta 0:00:01\r\u001b[K     |███████████████████████████████▊| 921kB 42.0MB/s eta 0:00:01\r\u001b[K     |████████████████████████████████| 931kB 42.0MB/s \n",
            "\u001b[?25hRequirement already satisfied: shapely in /usr/local/lib/python3.6/dist-packages (from geopandas) (1.7.0)\n",
            "Requirement already satisfied: pandas>=0.23.0 in /usr/local/lib/python3.6/dist-packages (from geopandas) (0.25.3)\n",
            "Collecting fiona\n",
            "\u001b[?25l  Downloading https://files.pythonhosted.org/packages/ec/20/4e63bc5c6e62df889297b382c3ccd4a7a488b00946aaaf81a118158c6f09/Fiona-1.8.13.post1-cp36-cp36m-manylinux1_x86_64.whl (14.7MB)\n",
            "\u001b[K     |████████████████████████████████| 14.7MB 209kB/s \n",
            "\u001b[?25hCollecting pyproj>=2.2.0\n",
            "\u001b[?25l  Downloading https://files.pythonhosted.org/packages/77/15/d93f446d253d26b91553f86cf21049183e9b0f51f8c8e6cb2cff081bcc02/pyproj-2.5.0-cp36-cp36m-manylinux2010_x86_64.whl (10.4MB)\n",
            "\u001b[K     |████████████████████████████████| 10.4MB 51.2MB/s \n",
            "\u001b[?25hRequirement already satisfied: numpy>=1.13.3 in /usr/local/lib/python3.6/dist-packages (from pandas>=0.23.0->geopandas) (1.17.5)\n",
            "Requirement already satisfied: pytz>=2017.2 in /usr/local/lib/python3.6/dist-packages (from pandas>=0.23.0->geopandas) (2018.9)\n",
            "Requirement already satisfied: python-dateutil>=2.6.1 in /usr/local/lib/python3.6/dist-packages (from pandas>=0.23.0->geopandas) (2.6.1)\n",
            "Requirement already satisfied: six>=1.7 in /usr/local/lib/python3.6/dist-packages (from fiona->geopandas) (1.12.0)\n",
            "Collecting cligj>=0.5\n",
            "  Downloading https://files.pythonhosted.org/packages/e4/be/30a58b4b0733850280d01f8bd132591b4668ed5c7046761098d665ac2174/cligj-0.5.0-py3-none-any.whl\n",
            "Requirement already satisfied: click<8,>=4.0 in /usr/local/lib/python3.6/dist-packages (from fiona->geopandas) (7.0)\n",
            "Collecting munch\n",
            "  Downloading https://files.pythonhosted.org/packages/cc/ab/85d8da5c9a45e072301beb37ad7f833cd344e04c817d97e0cc75681d248f/munch-2.5.0-py2.py3-none-any.whl\n",
            "Requirement already satisfied: attrs>=17 in /usr/local/lib/python3.6/dist-packages (from fiona->geopandas) (19.3.0)\n",
            "Collecting click-plugins>=1.0\n",
            "  Downloading https://files.pythonhosted.org/packages/e9/da/824b92d9942f4e472702488857914bdd50f73021efea15b4cad9aca8ecef/click_plugins-1.1.1-py2.py3-none-any.whl\n",
            "Installing collected packages: cligj, munch, click-plugins, fiona, pyproj, geopandas\n",
            "Successfully installed click-plugins-1.1.1 cligj-0.5.0 fiona-1.8.13.post1 geopandas-0.7.0 munch-2.5.0 pyproj-2.5.0\n"
          ],
          "name": "stdout"
        }
      ]
    },
    {
      "cell_type": "code",
      "metadata": {
        "id": "SCl_thnXVnr8",
        "colab_type": "code",
        "outputId": "d0902bc4-54c1-4cb5-da71-1c088ff95e72",
        "colab": {
          "base_uri": "https://localhost:8080/",
          "height": 82
        }
      },
      "source": [
        "## Importing required libraries\n",
        "import pandas as pd\n",
        "import numpy as np\n",
        "from numpy.random import seed\n",
        "seed(14)\n",
        "import matplotlib.pyplot as plt\n",
        "%matplotlib inline\n",
        "from datetime import datetime\n",
        "import seaborn as sns\n",
        "import geopandas as gpd\n",
        "from sklearn.preprocessing import StandardScaler, MinMaxScaler\n",
        "from sklearn.model_selection import train_test_split, cross_val_score\n",
        "import xgboost as xgb\n",
        "from xgboost import plot_importance\n",
        "from sklearn.metrics import explained_variance_score, mean_squared_error, r2_score\n",
        "import time\n",
        "from keras import models, layers, optimizers, regularizers\n",
        "from keras.utils.vis_utils import model_to_dot\n",
        "from IPython.display import SVG\n",
        "from statsmodels.tsa.seasonal import seasonal_decompose"
      ],
      "execution_count": 0,
      "outputs": [
        {
          "output_type": "stream",
          "text": [
            "Using TensorFlow backend.\n"
          ],
          "name": "stderr"
        },
        {
          "output_type": "display_data",
          "data": {
            "text/html": [
              "<p style=\"color: red;\">\n",
              "The default version of TensorFlow in Colab will soon switch to TensorFlow 2.x.<br>\n",
              "We recommend you <a href=\"https://www.tensorflow.org/guide/migrate\" target=\"_blank\">upgrade</a> now \n",
              "or ensure your notebook will continue to use TensorFlow 1.x via the <code>%tensorflow_version 1.x</code> magic:\n",
              "<a href=\"https://colab.research.google.com/notebooks/tensorflow_version.ipynb\" target=\"_blank\">more info</a>.</p>\n"
            ],
            "text/plain": [
              "<IPython.core.display.HTML object>"
            ]
          },
          "metadata": {
            "tags": []
          }
        }
      ]
    },
    {
      "cell_type": "code",
      "metadata": {
        "id": "-Oe0b22TV_uW",
        "colab_type": "code",
        "outputId": "a1fa48fb-6b72-49fb-9b48-1face0ff5199",
        "colab": {
          "base_uri": "https://localhost:8080/",
          "height": 575
        }
      },
      "source": [
        "## import the data\n",
        "raw_df = pd.read_csv('/content/Clean.csv', sep=\";\", encoding='cp1252')\n",
        "## print statement to show number of rows\n",
        "print(f\"The dataset contains {len(raw_df)} Airbnb listings\")\n",
        "## display all the columns\n",
        "pd.set_option('display.max_columns', len(raw_df.columns)) \n",
        "## see 100 rows when looking at dataframe\n",
        "pd.set_option('display.max_rows', 100)\n",
        "## inspect the first three rows\n",
        "raw_df.head(3)"
      ],
      "execution_count": 0,
      "outputs": [
        {
          "output_type": "error",
          "ename": "ParserError",
          "evalue": "ignored",
          "traceback": [
            "\u001b[0;31m---------------------------------------------------------------------------\u001b[0m",
            "\u001b[0;31mParserError\u001b[0m                               Traceback (most recent call last)",
            "\u001b[0;32m<ipython-input-12-727241f7a80c>\u001b[0m in \u001b[0;36m<module>\u001b[0;34m()\u001b[0m\n\u001b[0;32m----> 1\u001b[0;31m \u001b[0mraw_df\u001b[0m \u001b[0;34m=\u001b[0m \u001b[0mpd\u001b[0m\u001b[0;34m.\u001b[0m\u001b[0mread_csv\u001b[0m\u001b[0;34m(\u001b[0m\u001b[0;34m'/content/Clean.csv'\u001b[0m\u001b[0;34m,\u001b[0m \u001b[0msep\u001b[0m\u001b[0;34m=\u001b[0m\u001b[0;34m\";\"\u001b[0m\u001b[0;34m,\u001b[0m \u001b[0mencoding\u001b[0m\u001b[0;34m=\u001b[0m\u001b[0;34m'cp1252'\u001b[0m\u001b[0;34m)\u001b[0m\u001b[0;34m\u001b[0m\u001b[0;34m\u001b[0m\u001b[0m\n\u001b[0m\u001b[1;32m      2\u001b[0m \u001b[0;31m## print statement to show number of rows\u001b[0m\u001b[0;34m\u001b[0m\u001b[0;34m\u001b[0m\u001b[0;34m\u001b[0m\u001b[0m\n\u001b[1;32m      3\u001b[0m \u001b[0mprint\u001b[0m\u001b[0;34m(\u001b[0m\u001b[0;34mf\"The dataset contains {len(raw_df)} Airbnb listings\"\u001b[0m\u001b[0;34m)\u001b[0m\u001b[0;34m\u001b[0m\u001b[0;34m\u001b[0m\u001b[0m\n\u001b[1;32m      4\u001b[0m \u001b[0;31m## display all the columns\u001b[0m\u001b[0;34m\u001b[0m\u001b[0;34m\u001b[0m\u001b[0;34m\u001b[0m\u001b[0m\n\u001b[1;32m      5\u001b[0m \u001b[0mpd\u001b[0m\u001b[0;34m.\u001b[0m\u001b[0mset_option\u001b[0m\u001b[0;34m(\u001b[0m\u001b[0;34m'display.max_columns'\u001b[0m\u001b[0;34m,\u001b[0m \u001b[0mlen\u001b[0m\u001b[0;34m(\u001b[0m\u001b[0mraw_df\u001b[0m\u001b[0;34m.\u001b[0m\u001b[0mcolumns\u001b[0m\u001b[0;34m)\u001b[0m\u001b[0;34m)\u001b[0m\u001b[0;34m\u001b[0m\u001b[0;34m\u001b[0m\u001b[0m\n",
            "\u001b[0;32m/usr/local/lib/python3.6/dist-packages/pandas/io/parsers.py\u001b[0m in \u001b[0;36mparser_f\u001b[0;34m(filepath_or_buffer, sep, delimiter, header, names, index_col, usecols, squeeze, prefix, mangle_dupe_cols, dtype, engine, converters, true_values, false_values, skipinitialspace, skiprows, skipfooter, nrows, na_values, keep_default_na, na_filter, verbose, skip_blank_lines, parse_dates, infer_datetime_format, keep_date_col, date_parser, dayfirst, cache_dates, iterator, chunksize, compression, thousands, decimal, lineterminator, quotechar, quoting, doublequote, escapechar, comment, encoding, dialect, error_bad_lines, warn_bad_lines, delim_whitespace, low_memory, memory_map, float_precision)\u001b[0m\n\u001b[1;32m    683\u001b[0m         )\n\u001b[1;32m    684\u001b[0m \u001b[0;34m\u001b[0m\u001b[0m\n\u001b[0;32m--> 685\u001b[0;31m         \u001b[0;32mreturn\u001b[0m \u001b[0m_read\u001b[0m\u001b[0;34m(\u001b[0m\u001b[0mfilepath_or_buffer\u001b[0m\u001b[0;34m,\u001b[0m \u001b[0mkwds\u001b[0m\u001b[0;34m)\u001b[0m\u001b[0;34m\u001b[0m\u001b[0;34m\u001b[0m\u001b[0m\n\u001b[0m\u001b[1;32m    686\u001b[0m \u001b[0;34m\u001b[0m\u001b[0m\n\u001b[1;32m    687\u001b[0m     \u001b[0mparser_f\u001b[0m\u001b[0;34m.\u001b[0m\u001b[0m__name__\u001b[0m \u001b[0;34m=\u001b[0m \u001b[0mname\u001b[0m\u001b[0;34m\u001b[0m\u001b[0;34m\u001b[0m\u001b[0m\n",
            "\u001b[0;32m/usr/local/lib/python3.6/dist-packages/pandas/io/parsers.py\u001b[0m in \u001b[0;36m_read\u001b[0;34m(filepath_or_buffer, kwds)\u001b[0m\n\u001b[1;32m    461\u001b[0m \u001b[0;34m\u001b[0m\u001b[0m\n\u001b[1;32m    462\u001b[0m     \u001b[0;32mtry\u001b[0m\u001b[0;34m:\u001b[0m\u001b[0;34m\u001b[0m\u001b[0;34m\u001b[0m\u001b[0m\n\u001b[0;32m--> 463\u001b[0;31m         \u001b[0mdata\u001b[0m \u001b[0;34m=\u001b[0m \u001b[0mparser\u001b[0m\u001b[0;34m.\u001b[0m\u001b[0mread\u001b[0m\u001b[0;34m(\u001b[0m\u001b[0mnrows\u001b[0m\u001b[0;34m)\u001b[0m\u001b[0;34m\u001b[0m\u001b[0;34m\u001b[0m\u001b[0m\n\u001b[0m\u001b[1;32m    464\u001b[0m     \u001b[0;32mfinally\u001b[0m\u001b[0;34m:\u001b[0m\u001b[0;34m\u001b[0m\u001b[0;34m\u001b[0m\u001b[0m\n\u001b[1;32m    465\u001b[0m         \u001b[0mparser\u001b[0m\u001b[0;34m.\u001b[0m\u001b[0mclose\u001b[0m\u001b[0;34m(\u001b[0m\u001b[0;34m)\u001b[0m\u001b[0;34m\u001b[0m\u001b[0;34m\u001b[0m\u001b[0m\n",
            "\u001b[0;32m/usr/local/lib/python3.6/dist-packages/pandas/io/parsers.py\u001b[0m in \u001b[0;36mread\u001b[0;34m(self, nrows)\u001b[0m\n\u001b[1;32m   1152\u001b[0m     \u001b[0;32mdef\u001b[0m \u001b[0mread\u001b[0m\u001b[0;34m(\u001b[0m\u001b[0mself\u001b[0m\u001b[0;34m,\u001b[0m \u001b[0mnrows\u001b[0m\u001b[0;34m=\u001b[0m\u001b[0;32mNone\u001b[0m\u001b[0;34m)\u001b[0m\u001b[0;34m:\u001b[0m\u001b[0;34m\u001b[0m\u001b[0;34m\u001b[0m\u001b[0m\n\u001b[1;32m   1153\u001b[0m         \u001b[0mnrows\u001b[0m \u001b[0;34m=\u001b[0m \u001b[0m_validate_integer\u001b[0m\u001b[0;34m(\u001b[0m\u001b[0;34m\"nrows\"\u001b[0m\u001b[0;34m,\u001b[0m \u001b[0mnrows\u001b[0m\u001b[0;34m)\u001b[0m\u001b[0;34m\u001b[0m\u001b[0;34m\u001b[0m\u001b[0m\n\u001b[0;32m-> 1154\u001b[0;31m         \u001b[0mret\u001b[0m \u001b[0;34m=\u001b[0m \u001b[0mself\u001b[0m\u001b[0;34m.\u001b[0m\u001b[0m_engine\u001b[0m\u001b[0;34m.\u001b[0m\u001b[0mread\u001b[0m\u001b[0;34m(\u001b[0m\u001b[0mnrows\u001b[0m\u001b[0;34m)\u001b[0m\u001b[0;34m\u001b[0m\u001b[0;34m\u001b[0m\u001b[0m\n\u001b[0m\u001b[1;32m   1155\u001b[0m \u001b[0;34m\u001b[0m\u001b[0m\n\u001b[1;32m   1156\u001b[0m         \u001b[0;31m# May alter columns / col_dict\u001b[0m\u001b[0;34m\u001b[0m\u001b[0;34m\u001b[0m\u001b[0;34m\u001b[0m\u001b[0m\n",
            "\u001b[0;32m/usr/local/lib/python3.6/dist-packages/pandas/io/parsers.py\u001b[0m in \u001b[0;36mread\u001b[0;34m(self, nrows)\u001b[0m\n\u001b[1;32m   2057\u001b[0m     \u001b[0;32mdef\u001b[0m \u001b[0mread\u001b[0m\u001b[0;34m(\u001b[0m\u001b[0mself\u001b[0m\u001b[0;34m,\u001b[0m \u001b[0mnrows\u001b[0m\u001b[0;34m=\u001b[0m\u001b[0;32mNone\u001b[0m\u001b[0;34m)\u001b[0m\u001b[0;34m:\u001b[0m\u001b[0;34m\u001b[0m\u001b[0;34m\u001b[0m\u001b[0m\n\u001b[1;32m   2058\u001b[0m         \u001b[0;32mtry\u001b[0m\u001b[0;34m:\u001b[0m\u001b[0;34m\u001b[0m\u001b[0;34m\u001b[0m\u001b[0m\n\u001b[0;32m-> 2059\u001b[0;31m             \u001b[0mdata\u001b[0m \u001b[0;34m=\u001b[0m \u001b[0mself\u001b[0m\u001b[0;34m.\u001b[0m\u001b[0m_reader\u001b[0m\u001b[0;34m.\u001b[0m\u001b[0mread\u001b[0m\u001b[0;34m(\u001b[0m\u001b[0mnrows\u001b[0m\u001b[0;34m)\u001b[0m\u001b[0;34m\u001b[0m\u001b[0;34m\u001b[0m\u001b[0m\n\u001b[0m\u001b[1;32m   2060\u001b[0m         \u001b[0;32mexcept\u001b[0m \u001b[0mStopIteration\u001b[0m\u001b[0;34m:\u001b[0m\u001b[0;34m\u001b[0m\u001b[0;34m\u001b[0m\u001b[0m\n\u001b[1;32m   2061\u001b[0m             \u001b[0;32mif\u001b[0m \u001b[0mself\u001b[0m\u001b[0;34m.\u001b[0m\u001b[0m_first_chunk\u001b[0m\u001b[0;34m:\u001b[0m\u001b[0;34m\u001b[0m\u001b[0;34m\u001b[0m\u001b[0m\n",
            "\u001b[0;32mpandas/_libs/parsers.pyx\u001b[0m in \u001b[0;36mpandas._libs.parsers.TextReader.read\u001b[0;34m()\u001b[0m\n",
            "\u001b[0;32mpandas/_libs/parsers.pyx\u001b[0m in \u001b[0;36mpandas._libs.parsers.TextReader._read_low_memory\u001b[0;34m()\u001b[0m\n",
            "\u001b[0;32mpandas/_libs/parsers.pyx\u001b[0m in \u001b[0;36mpandas._libs.parsers.TextReader._read_rows\u001b[0;34m()\u001b[0m\n",
            "\u001b[0;32mpandas/_libs/parsers.pyx\u001b[0m in \u001b[0;36mpandas._libs.parsers.TextReader._tokenize_rows\u001b[0;34m()\u001b[0m\n",
            "\u001b[0;32mpandas/_libs/parsers.pyx\u001b[0m in \u001b[0;36mpandas._libs.parsers.raise_parser_error\u001b[0;34m()\u001b[0m\n",
            "\u001b[0;31mParserError\u001b[0m: Error tokenizing data. C error: Expected 1 fields in line 38, saw 2\n"
          ]
        }
      ]
    },
    {
      "cell_type": "code",
      "metadata": {
        "id": "PXAiS2VcXiad",
        "colab_type": "code",
        "outputId": "f69b2612-cbd2-44e0-c189-7c9a84d2f460",
        "colab": {
          "base_uri": "https://localhost:8080/",
          "height": 35
        }
      },
      "source": [
        "## check number of columns\n",
        "raw_df.shape"
      ],
      "execution_count": 0,
      "outputs": [
        {
          "output_type": "execute_result",
          "data": {
            "text/plain": [
              "(24586, 106)"
            ]
          },
          "metadata": {
            "tags": []
          },
          "execution_count": 6
        }
      ]
    },
    {
      "cell_type": "code",
      "metadata": {
        "id": "cJNTW_UGYAA5",
        "colab_type": "code",
        "colab": {}
      },
      "source": [
        "## drop columns that are non-numeric\n",
        "cols_to_drop = ['listing_url', 'scrape_id', 'last_scraped', 'name', 'summary', 'space', 'description', 'neighborhood_overview', 'notes', 'transit', 'access', 'interaction', 'house_rules', 'thumbnail_url', 'medium_url', 'picture_url', 'xl_picture_url', 'host_id', 'host_url', 'host_name', 'host_location', 'host_about', 'host_thumbnail_url', 'host_picture_url', 'host_neighbourhood', 'host_verifications', 'calendar_last_scraped']\n",
        "df = raw_df.drop(cols_to_drop, axis=1)"
      ],
      "execution_count": 0,
      "outputs": []
    },
    {
      "cell_type": "code",
      "metadata": {
        "id": "57mM6KKAYubk",
        "colab_type": "code",
        "outputId": "5a1a9d07-69d6-4c77-f424-44d8ac35ce86",
        "colab": {
          "base_uri": "https://localhost:8080/",
          "height": 1000
        }
      },
      "source": [
        "## check for nan values\n",
        "df.isna().sum()"
      ],
      "execution_count": 0,
      "outputs": [
        {
          "output_type": "execute_result",
          "data": {
            "text/plain": [
              "id                                                  0\n",
              "experiences_offered                                 0\n",
              "host_since                                         28\n",
              "host_response_time                              10761\n",
              "host_response_rate                              10761\n",
              "host_acceptance_rate                            24586\n",
              "host_is_superhost                                  28\n",
              "host_listings_count                                28\n",
              "host_total_listings_count                          28\n",
              "host_has_profile_pic                               28\n",
              "host_identity_verified                             28\n",
              "street                                              0\n",
              "neighbourhood                                      71\n",
              "neighbourhood_cleansed                              0\n",
              "neighbourhood_group_cleansed                        0\n",
              "city                                               10\n",
              "state                                             125\n",
              "zipcode                                           538\n",
              "market                                             59\n",
              "smart_location                                      0\n",
              "country_code                                        0\n",
              "country                                             0\n",
              "latitude                                            0\n",
              "longitude                                           0\n",
              "is_location_exact                                   0\n",
              "property_type                                       0\n",
              "room_type                                           0\n",
              "accommodates                                        0\n",
              "bathrooms                                          22\n",
              "bedrooms                                           27\n",
              "beds                                               37\n",
              "bed_type                                            0\n",
              "amenities                                           0\n",
              "square_feet                                     24157\n",
              "price                                               0\n",
              "weekly_price                                    21429\n",
              "monthly_price                                   22312\n",
              "security_deposit                                 9544\n",
              "cleaning_fee                                     7197\n",
              "guests_included                                     0\n",
              "extra_people                                        0\n",
              "minimum_nights                                      0\n",
              "maximum_nights                                      0\n",
              "minimum_minimum_nights                              0\n",
              "maximum_minimum_nights                              0\n",
              "minimum_maximum_nights                              0\n",
              "maximum_maximum_nights                              0\n",
              "minimum_nights_avg_ntm                              0\n",
              "maximum_nights_avg_ntm                              0\n",
              "calendar_updated                                    0\n",
              "has_availability                                    0\n",
              "availability_30                                     0\n",
              "availability_60                                     0\n",
              "availability_90                                     0\n",
              "availability_365                                    0\n",
              "number_of_reviews                                   0\n",
              "number_of_reviews_ltm                               0\n",
              "first_review                                     4081\n",
              "last_review                                      4081\n",
              "review_scores_rating                             4551\n",
              "review_scores_accuracy                           4577\n",
              "review_scores_cleanliness                        4574\n",
              "review_scores_checkin                            4595\n",
              "review_scores_communication                      4578\n",
              "review_scores_location                           4594\n",
              "review_scores_value                              4597\n",
              "requires_license                                    0\n",
              "license                                         21990\n",
              "jurisdiction_names                              24586\n",
              "instant_bookable                                    0\n",
              "is_business_travel_ready                            0\n",
              "cancellation_policy                                 0\n",
              "require_guest_profile_picture                       0\n",
              "require_guest_phone_verification                    0\n",
              "calculated_host_listings_count                      0\n",
              "calculated_host_listings_count_entire_homes         0\n",
              "calculated_host_listings_count_private_rooms        0\n",
              "calculated_host_listings_count_shared_rooms         0\n",
              "reviews_per_month                                4081\n",
              "dtype: int64"
            ]
          },
          "metadata": {
            "tags": []
          },
          "execution_count": 8
        }
      ]
    },
    {
      "cell_type": "code",
      "metadata": {
        "id": "5Q2mKvcWYynG",
        "colab_type": "code",
        "colab": {}
      },
      "source": [
        "## drop columns with large amounts of nans\n",
        "df.drop(['host_acceptance_rate', 'neighbourhood_group_cleansed', 'square_feet', 'weekly_price', 'monthly_price', 'license', 'jurisdiction_names'], axis=1, inplace=True)\n"
      ],
      "execution_count": 0,
      "outputs": []
    },
    {
      "cell_type": "code",
      "metadata": {
        "id": "ANQp-jTSZrxs",
        "colab_type": "code",
        "colab": {}
      },
      "source": [
        "## set the index to be id \n",
        "df.set_index('id', inplace=True) "
      ],
      "execution_count": 0,
      "outputs": []
    },
    {
      "cell_type": "code",
      "metadata": {
        "id": "_8xUfLadZsOC",
        "colab_type": "code",
        "colab": {}
      },
      "source": [
        "## drop highly correlated or repetitive  columns\n",
        "df.drop(['host_total_listings_count', 'calculated_host_listings_count', 'calculated_host_listings_count_entire_homes', 'calculated_host_listings_count_private_rooms', 'calculated_host_listings_count_shared_rooms'], axis=1, inplace=True)"
      ],
      "execution_count": 0,
      "outputs": []
    },
    {
      "cell_type": "code",
      "metadata": {
        "id": "VhUtprtYaNhU",
        "colab_type": "code",
        "colab": {}
      },
      "source": [
        "## save latitude and longitude data\n",
        "lat_long = df[['latitude', 'longitude']]"
      ],
      "execution_count": 0,
      "outputs": []
    },
    {
      "cell_type": "code",
      "metadata": {
        "id": "VH7f9EIKaZll",
        "colab_type": "code",
        "colab": {}
      },
      "source": [
        "## drop columns related to location since we are in Berlin exclusivly and we saved latitude and longitude \n",
        "df.drop(['zipcode', 'latitude', 'longitude', 'street', 'neighbourhood', 'city', 'state', 'market', 'smart_location', 'country_code', 'country', 'is_location_exact'], axis=1, inplace=True)"
      ],
      "execution_count": 0,
      "outputs": []
    },
    {
      "cell_type": "code",
      "metadata": {
        "id": "bdDdg2X3anou",
        "colab_type": "code",
        "colab": {}
      },
      "source": [
        "## drop columns highly correlated with nights/stayed\n",
        "df.drop(['minimum_minimum_nights', 'maximum_minimum_nights', 'minimum_maximum_nights', 'maximum_maximum_nights', 'minimum_nights_avg_ntm', 'maximum_nights_avg_ntm'], axis=1, inplace=True)"
      ],
      "execution_count": 0,
      "outputs": []
    },
    {
      "cell_type": "code",
      "metadata": {
        "id": "dg2GuUIBbGv2",
        "colab_type": "code",
        "outputId": "55111141-2e7e-4e7d-fbde-49408d5d8f4c",
        "colab": {
          "base_uri": "https://localhost:8080/",
          "height": 340
        }
      },
      "source": [
        "df.head()"
      ],
      "execution_count": 0,
      "outputs": [
        {
          "output_type": "execute_result",
          "data": {
            "text/html": [
              "<div>\n",
              "<style scoped>\n",
              "    .dataframe tbody tr th:only-of-type {\n",
              "        vertical-align: middle;\n",
              "    }\n",
              "\n",
              "    .dataframe tbody tr th {\n",
              "        vertical-align: top;\n",
              "    }\n",
              "\n",
              "    .dataframe thead th {\n",
              "        text-align: right;\n",
              "    }\n",
              "</style>\n",
              "<table border=\"1\" class=\"dataframe\">\n",
              "  <thead>\n",
              "    <tr style=\"text-align: right;\">\n",
              "      <th></th>\n",
              "      <th>experiences_offered</th>\n",
              "      <th>host_since</th>\n",
              "      <th>host_response_time</th>\n",
              "      <th>host_response_rate</th>\n",
              "      <th>host_is_superhost</th>\n",
              "      <th>host_listings_count</th>\n",
              "      <th>host_has_profile_pic</th>\n",
              "      <th>host_identity_verified</th>\n",
              "      <th>neighbourhood_cleansed</th>\n",
              "      <th>property_type</th>\n",
              "      <th>room_type</th>\n",
              "      <th>accommodates</th>\n",
              "      <th>bathrooms</th>\n",
              "      <th>bedrooms</th>\n",
              "      <th>beds</th>\n",
              "      <th>bed_type</th>\n",
              "      <th>amenities</th>\n",
              "      <th>price</th>\n",
              "      <th>security_deposit</th>\n",
              "      <th>cleaning_fee</th>\n",
              "      <th>guests_included</th>\n",
              "      <th>extra_people</th>\n",
              "      <th>minimum_nights</th>\n",
              "      <th>maximum_nights</th>\n",
              "      <th>calendar_updated</th>\n",
              "      <th>has_availability</th>\n",
              "      <th>availability_30</th>\n",
              "      <th>availability_60</th>\n",
              "      <th>availability_90</th>\n",
              "      <th>availability_365</th>\n",
              "      <th>number_of_reviews</th>\n",
              "      <th>number_of_reviews_ltm</th>\n",
              "      <th>first_review</th>\n",
              "      <th>last_review</th>\n",
              "      <th>review_scores_rating</th>\n",
              "      <th>review_scores_accuracy</th>\n",
              "      <th>review_scores_cleanliness</th>\n",
              "      <th>review_scores_checkin</th>\n",
              "      <th>review_scores_communication</th>\n",
              "      <th>review_scores_location</th>\n",
              "      <th>review_scores_value</th>\n",
              "      <th>requires_license</th>\n",
              "      <th>instant_bookable</th>\n",
              "      <th>is_business_travel_ready</th>\n",
              "      <th>cancellation_policy</th>\n",
              "      <th>require_guest_profile_picture</th>\n",
              "      <th>require_guest_phone_verification</th>\n",
              "      <th>reviews_per_month</th>\n",
              "    </tr>\n",
              "    <tr>\n",
              "      <th>id</th>\n",
              "      <th></th>\n",
              "      <th></th>\n",
              "      <th></th>\n",
              "      <th></th>\n",
              "      <th></th>\n",
              "      <th></th>\n",
              "      <th></th>\n",
              "      <th></th>\n",
              "      <th></th>\n",
              "      <th></th>\n",
              "      <th></th>\n",
              "      <th></th>\n",
              "      <th></th>\n",
              "      <th></th>\n",
              "      <th></th>\n",
              "      <th></th>\n",
              "      <th></th>\n",
              "      <th></th>\n",
              "      <th></th>\n",
              "      <th></th>\n",
              "      <th></th>\n",
              "      <th></th>\n",
              "      <th></th>\n",
              "      <th></th>\n",
              "      <th></th>\n",
              "      <th></th>\n",
              "      <th></th>\n",
              "      <th></th>\n",
              "      <th></th>\n",
              "      <th></th>\n",
              "      <th></th>\n",
              "      <th></th>\n",
              "      <th></th>\n",
              "      <th></th>\n",
              "      <th></th>\n",
              "      <th></th>\n",
              "      <th></th>\n",
              "      <th></th>\n",
              "      <th></th>\n",
              "      <th></th>\n",
              "      <th></th>\n",
              "      <th></th>\n",
              "      <th></th>\n",
              "      <th></th>\n",
              "      <th></th>\n",
              "      <th></th>\n",
              "      <th></th>\n",
              "      <th></th>\n",
              "    </tr>\n",
              "  </thead>\n",
              "  <tbody>\n",
              "    <tr>\n",
              "      <th>1944</th>\n",
              "      <td>none</td>\n",
              "      <td>2008-08-16</td>\n",
              "      <td>a few days or more</td>\n",
              "      <td>33%</td>\n",
              "      <td>f</td>\n",
              "      <td>0.0</td>\n",
              "      <td>t</td>\n",
              "      <td>t</td>\n",
              "      <td>Brunnenstr. Nord</td>\n",
              "      <td>Apartment</td>\n",
              "      <td>Private room</td>\n",
              "      <td>1</td>\n",
              "      <td>1.0</td>\n",
              "      <td>1.0</td>\n",
              "      <td>1.0</td>\n",
              "      <td>Real Bed</td>\n",
              "      <td>{\"Cable TV\",Internet,Wifi,\"Free street parking...</td>\n",
              "      <td>$21.00</td>\n",
              "      <td>$0.00</td>\n",
              "      <td>$0.00</td>\n",
              "      <td>1</td>\n",
              "      <td>$10.00</td>\n",
              "      <td>60</td>\n",
              "      <td>120</td>\n",
              "      <td>11 months ago</td>\n",
              "      <td>t</td>\n",
              "      <td>9</td>\n",
              "      <td>25</td>\n",
              "      <td>25</td>\n",
              "      <td>251</td>\n",
              "      <td>18</td>\n",
              "      <td>0</td>\n",
              "      <td>2013-09-07</td>\n",
              "      <td>2018-11-11</td>\n",
              "      <td>82.0</td>\n",
              "      <td>9.0</td>\n",
              "      <td>8.0</td>\n",
              "      <td>9.0</td>\n",
              "      <td>9.0</td>\n",
              "      <td>9.0</td>\n",
              "      <td>8.0</td>\n",
              "      <td>t</td>\n",
              "      <td>f</td>\n",
              "      <td>f</td>\n",
              "      <td>moderate</td>\n",
              "      <td>f</td>\n",
              "      <td>f</td>\n",
              "      <td>0.24</td>\n",
              "    </tr>\n",
              "    <tr>\n",
              "      <th>3176</th>\n",
              "      <td>none</td>\n",
              "      <td>2008-10-19</td>\n",
              "      <td>a few days or more</td>\n",
              "      <td>0%</td>\n",
              "      <td>f</td>\n",
              "      <td>1.0</td>\n",
              "      <td>t</td>\n",
              "      <td>t</td>\n",
              "      <td>Prenzlauer Berg Südwest</td>\n",
              "      <td>Apartment</td>\n",
              "      <td>Entire home/apt</td>\n",
              "      <td>4</td>\n",
              "      <td>1.0</td>\n",
              "      <td>1.0</td>\n",
              "      <td>2.0</td>\n",
              "      <td>Real Bed</td>\n",
              "      <td>{Internet,Wifi,Kitchen,\"Buzzer/wireless interc...</td>\n",
              "      <td>$90.00</td>\n",
              "      <td>$300.00</td>\n",
              "      <td>$100.00</td>\n",
              "      <td>2</td>\n",
              "      <td>$20.00</td>\n",
              "      <td>62</td>\n",
              "      <td>1125</td>\n",
              "      <td>2 months ago</td>\n",
              "      <td>t</td>\n",
              "      <td>9</td>\n",
              "      <td>39</td>\n",
              "      <td>69</td>\n",
              "      <td>344</td>\n",
              "      <td>145</td>\n",
              "      <td>1</td>\n",
              "      <td>2009-06-20</td>\n",
              "      <td>2019-06-27</td>\n",
              "      <td>93.0</td>\n",
              "      <td>9.0</td>\n",
              "      <td>9.0</td>\n",
              "      <td>9.0</td>\n",
              "      <td>9.0</td>\n",
              "      <td>10.0</td>\n",
              "      <td>9.0</td>\n",
              "      <td>t</td>\n",
              "      <td>f</td>\n",
              "      <td>f</td>\n",
              "      <td>strict_14_with_grace_period</td>\n",
              "      <td>f</td>\n",
              "      <td>f</td>\n",
              "      <td>1.14</td>\n",
              "    </tr>\n",
              "    <tr>\n",
              "      <th>3309</th>\n",
              "      <td>none</td>\n",
              "      <td>2008-11-07</td>\n",
              "      <td>NaN</td>\n",
              "      <td>NaN</td>\n",
              "      <td>f</td>\n",
              "      <td>1.0</td>\n",
              "      <td>t</td>\n",
              "      <td>f</td>\n",
              "      <td>Schöneberg-Nord</td>\n",
              "      <td>Apartment</td>\n",
              "      <td>Private room</td>\n",
              "      <td>1</td>\n",
              "      <td>1.0</td>\n",
              "      <td>1.0</td>\n",
              "      <td>1.0</td>\n",
              "      <td>Pull-out Sofa</td>\n",
              "      <td>{Internet,Wifi,\"Pets live on this property\",Ca...</td>\n",
              "      <td>$28.00</td>\n",
              "      <td>$250.00</td>\n",
              "      <td>$30.00</td>\n",
              "      <td>1</td>\n",
              "      <td>$18.00</td>\n",
              "      <td>7</td>\n",
              "      <td>35</td>\n",
              "      <td>2 months ago</td>\n",
              "      <td>t</td>\n",
              "      <td>0</td>\n",
              "      <td>12</td>\n",
              "      <td>42</td>\n",
              "      <td>317</td>\n",
              "      <td>27</td>\n",
              "      <td>2</td>\n",
              "      <td>2013-08-12</td>\n",
              "      <td>2019-05-31</td>\n",
              "      <td>89.0</td>\n",
              "      <td>9.0</td>\n",
              "      <td>9.0</td>\n",
              "      <td>9.0</td>\n",
              "      <td>10.0</td>\n",
              "      <td>9.0</td>\n",
              "      <td>9.0</td>\n",
              "      <td>t</td>\n",
              "      <td>f</td>\n",
              "      <td>f</td>\n",
              "      <td>strict_14_with_grace_period</td>\n",
              "      <td>f</td>\n",
              "      <td>f</td>\n",
              "      <td>0.35</td>\n",
              "    </tr>\n",
              "    <tr>\n",
              "      <th>6883</th>\n",
              "      <td>none</td>\n",
              "      <td>2009-05-07</td>\n",
              "      <td>within an hour</td>\n",
              "      <td>100%</td>\n",
              "      <td>f</td>\n",
              "      <td>1.0</td>\n",
              "      <td>t</td>\n",
              "      <td>t</td>\n",
              "      <td>Frankfurter Allee Süd FK</td>\n",
              "      <td>Loft</td>\n",
              "      <td>Entire home/apt</td>\n",
              "      <td>2</td>\n",
              "      <td>1.0</td>\n",
              "      <td>1.0</td>\n",
              "      <td>1.0</td>\n",
              "      <td>Real Bed</td>\n",
              "      <td>{TV,\"Cable TV\",Internet,Wifi,\"Air conditioning...</td>\n",
              "      <td>$125.00</td>\n",
              "      <td>$0.00</td>\n",
              "      <td>$39.00</td>\n",
              "      <td>1</td>\n",
              "      <td>$0.00</td>\n",
              "      <td>3</td>\n",
              "      <td>90</td>\n",
              "      <td>a week ago</td>\n",
              "      <td>t</td>\n",
              "      <td>15</td>\n",
              "      <td>20</td>\n",
              "      <td>20</td>\n",
              "      <td>20</td>\n",
              "      <td>128</td>\n",
              "      <td>4</td>\n",
              "      <td>2010-02-15</td>\n",
              "      <td>2019-10-21</td>\n",
              "      <td>99.0</td>\n",
              "      <td>10.0</td>\n",
              "      <td>10.0</td>\n",
              "      <td>10.0</td>\n",
              "      <td>10.0</td>\n",
              "      <td>10.0</td>\n",
              "      <td>10.0</td>\n",
              "      <td>t</td>\n",
              "      <td>f</td>\n",
              "      <td>f</td>\n",
              "      <td>moderate</td>\n",
              "      <td>f</td>\n",
              "      <td>t</td>\n",
              "      <td>1.08</td>\n",
              "    </tr>\n",
              "    <tr>\n",
              "      <th>7071</th>\n",
              "      <td>none</td>\n",
              "      <td>2009-05-16</td>\n",
              "      <td>within an hour</td>\n",
              "      <td>100%</td>\n",
              "      <td>t</td>\n",
              "      <td>2.0</td>\n",
              "      <td>t</td>\n",
              "      <td>t</td>\n",
              "      <td>Helmholtzplatz</td>\n",
              "      <td>Apartment</td>\n",
              "      <td>Private room</td>\n",
              "      <td>2</td>\n",
              "      <td>1.0</td>\n",
              "      <td>1.0</td>\n",
              "      <td>2.0</td>\n",
              "      <td>Real Bed</td>\n",
              "      <td>{Wifi,Heating,\"Family/kid friendly\",Essentials...</td>\n",
              "      <td>$33.00</td>\n",
              "      <td>$0.00</td>\n",
              "      <td>$0.00</td>\n",
              "      <td>1</td>\n",
              "      <td>$25.00</td>\n",
              "      <td>3</td>\n",
              "      <td>10</td>\n",
              "      <td>3 days ago</td>\n",
              "      <td>t</td>\n",
              "      <td>21</td>\n",
              "      <td>30</td>\n",
              "      <td>30</td>\n",
              "      <td>30</td>\n",
              "      <td>266</td>\n",
              "      <td>69</td>\n",
              "      <td>2009-08-18</td>\n",
              "      <td>2019-11-09</td>\n",
              "      <td>96.0</td>\n",
              "      <td>10.0</td>\n",
              "      <td>10.0</td>\n",
              "      <td>10.0</td>\n",
              "      <td>10.0</td>\n",
              "      <td>10.0</td>\n",
              "      <td>10.0</td>\n",
              "      <td>t</td>\n",
              "      <td>f</td>\n",
              "      <td>f</td>\n",
              "      <td>moderate</td>\n",
              "      <td>f</td>\n",
              "      <td>f</td>\n",
              "      <td>2.13</td>\n",
              "    </tr>\n",
              "  </tbody>\n",
              "</table>\n",
              "</div>"
            ],
            "text/plain": [
              "     experiences_offered  host_since  host_response_time host_response_rate  \\\n",
              "id                                                                            \n",
              "1944                none  2008-08-16  a few days or more                33%   \n",
              "3176                none  2008-10-19  a few days or more                 0%   \n",
              "3309                none  2008-11-07                 NaN                NaN   \n",
              "6883                none  2009-05-07      within an hour               100%   \n",
              "7071                none  2009-05-16      within an hour               100%   \n",
              "\n",
              "     host_is_superhost  host_listings_count host_has_profile_pic  \\\n",
              "id                                                                 \n",
              "1944                 f                  0.0                    t   \n",
              "3176                 f                  1.0                    t   \n",
              "3309                 f                  1.0                    t   \n",
              "6883                 f                  1.0                    t   \n",
              "7071                 t                  2.0                    t   \n",
              "\n",
              "     host_identity_verified    neighbourhood_cleansed property_type  \\\n",
              "id                                                                    \n",
              "1944                      t          Brunnenstr. Nord     Apartment   \n",
              "3176                      t   Prenzlauer Berg Südwest     Apartment   \n",
              "3309                      f           Schöneberg-Nord     Apartment   \n",
              "6883                      t  Frankfurter Allee Süd FK          Loft   \n",
              "7071                      t            Helmholtzplatz     Apartment   \n",
              "\n",
              "            room_type  accommodates  bathrooms  bedrooms  beds       bed_type  \\\n",
              "id                                                                              \n",
              "1944     Private room             1        1.0       1.0   1.0       Real Bed   \n",
              "3176  Entire home/apt             4        1.0       1.0   2.0       Real Bed   \n",
              "3309     Private room             1        1.0       1.0   1.0  Pull-out Sofa   \n",
              "6883  Entire home/apt             2        1.0       1.0   1.0       Real Bed   \n",
              "7071     Private room             2        1.0       1.0   2.0       Real Bed   \n",
              "\n",
              "                                              amenities    price  \\\n",
              "id                                                                 \n",
              "1944  {\"Cable TV\",Internet,Wifi,\"Free street parking...   $21.00   \n",
              "3176  {Internet,Wifi,Kitchen,\"Buzzer/wireless interc...   $90.00   \n",
              "3309  {Internet,Wifi,\"Pets live on this property\",Ca...   $28.00   \n",
              "6883  {TV,\"Cable TV\",Internet,Wifi,\"Air conditioning...  $125.00   \n",
              "7071  {Wifi,Heating,\"Family/kid friendly\",Essentials...   $33.00   \n",
              "\n",
              "     security_deposit cleaning_fee  guests_included extra_people  \\\n",
              "id                                                                 \n",
              "1944            $0.00        $0.00                1       $10.00   \n",
              "3176          $300.00      $100.00                2       $20.00   \n",
              "3309          $250.00       $30.00                1       $18.00   \n",
              "6883            $0.00       $39.00                1        $0.00   \n",
              "7071            $0.00        $0.00                1       $25.00   \n",
              "\n",
              "      minimum_nights  maximum_nights calendar_updated has_availability  \\\n",
              "id                                                                       \n",
              "1944              60             120    11 months ago                t   \n",
              "3176              62            1125     2 months ago                t   \n",
              "3309               7              35     2 months ago                t   \n",
              "6883               3              90       a week ago                t   \n",
              "7071               3              10       3 days ago                t   \n",
              "\n",
              "      availability_30  availability_60  availability_90  availability_365  \\\n",
              "id                                                                          \n",
              "1944                9               25               25               251   \n",
              "3176                9               39               69               344   \n",
              "3309                0               12               42               317   \n",
              "6883               15               20               20                20   \n",
              "7071               21               30               30                30   \n",
              "\n",
              "      number_of_reviews  number_of_reviews_ltm first_review last_review  \\\n",
              "id                                                                        \n",
              "1944                 18                      0   2013-09-07  2018-11-11   \n",
              "3176                145                      1   2009-06-20  2019-06-27   \n",
              "3309                 27                      2   2013-08-12  2019-05-31   \n",
              "6883                128                      4   2010-02-15  2019-10-21   \n",
              "7071                266                     69   2009-08-18  2019-11-09   \n",
              "\n",
              "      review_scores_rating  review_scores_accuracy  review_scores_cleanliness  \\\n",
              "id                                                                              \n",
              "1944                  82.0                     9.0                        8.0   \n",
              "3176                  93.0                     9.0                        9.0   \n",
              "3309                  89.0                     9.0                        9.0   \n",
              "6883                  99.0                    10.0                       10.0   \n",
              "7071                  96.0                    10.0                       10.0   \n",
              "\n",
              "      review_scores_checkin  review_scores_communication  \\\n",
              "id                                                         \n",
              "1944                    9.0                          9.0   \n",
              "3176                    9.0                          9.0   \n",
              "3309                    9.0                         10.0   \n",
              "6883                   10.0                         10.0   \n",
              "7071                   10.0                         10.0   \n",
              "\n",
              "      review_scores_location  review_scores_value requires_license  \\\n",
              "id                                                                   \n",
              "1944                     9.0                  8.0                t   \n",
              "3176                    10.0                  9.0                t   \n",
              "3309                     9.0                  9.0                t   \n",
              "6883                    10.0                 10.0                t   \n",
              "7071                    10.0                 10.0                t   \n",
              "\n",
              "     instant_bookable is_business_travel_ready          cancellation_policy  \\\n",
              "id                                                                            \n",
              "1944                f                        f                     moderate   \n",
              "3176                f                        f  strict_14_with_grace_period   \n",
              "3309                f                        f  strict_14_with_grace_period   \n",
              "6883                f                        f                     moderate   \n",
              "7071                f                        f                     moderate   \n",
              "\n",
              "     require_guest_profile_picture require_guest_phone_verification  \\\n",
              "id                                                                    \n",
              "1944                             f                                f   \n",
              "3176                             f                                f   \n",
              "3309                             f                                f   \n",
              "6883                             f                                t   \n",
              "7071                             f                                f   \n",
              "\n",
              "      reviews_per_month  \n",
              "id                       \n",
              "1944               0.24  \n",
              "3176               1.14  \n",
              "3309               0.35  \n",
              "6883               1.08  \n",
              "7071               2.13  "
            ]
          },
          "metadata": {
            "tags": []
          },
          "execution_count": 15
        }
      ]
    },
    {
      "cell_type": "code",
      "metadata": {
        "id": "lHoHqLiia3lT",
        "colab_type": "code",
        "outputId": "8654366b-c262-4d35-aeac-d55ec6492dd9",
        "colab": {
          "base_uri": "https://localhost:8080/",
          "height": 1000
        }
      },
      "source": [
        "## Replacing columns with false/true with 0/1\n",
        "df.replace({'f': 0, 't': 1}, inplace=True)\n",
        "\n",
        "## Plotting the distribution of numerical and boolean categories\n",
        "df.hist(figsize=(20,20));"
      ],
      "execution_count": 0,
      "outputs": [
        {
          "output_type": "display_data",
          "data": {
            "image/png": "[encoded data removed]",
            "text/plain": [
              "<Figure size 1440x1440 with 36 Axes>"
            ]
          },
          "metadata": {
            "tags": []
          }
        }
      ]
    },
    {
      "cell_type": "code",
      "metadata": {
        "id": "d4qE9kOvba2u",
        "colab_type": "code",
        "colab": {}
      },
      "source": [
        "## if there is only one category that is not helpful so we'll drop those columns\n",
        "df.drop(['has_availability', 'host_has_profile_pic', 'is_business_travel_ready', 'require_guest_phone_verification', 'require_guest_profile_picture', 'requires_license'], axis=1, inplace=True)"
      ],
      "execution_count": 0,
      "outputs": []
    },
    {
      "cell_type": "code",
      "metadata": {
        "id": "ZfEXTCRcb7p0",
        "colab_type": "code",
        "outputId": "1743c2c0-aaeb-4b00-ede5-321f10ccc7fd",
        "colab": {
          "base_uri": "https://localhost:8080/",
          "height": 35
        }
      },
      "source": [
        "## we have dropped a lot of non-essential columns\n",
        "## now to clean the ones we have remaining\n",
        "df.shape"
      ],
      "execution_count": 0,
      "outputs": [
        {
          "output_type": "execute_result",
          "data": {
            "text/plain": [
              "(24586, 42)"
            ]
          },
          "metadata": {
            "tags": []
          },
          "execution_count": 18
        }
      ]
    },
    {
      "cell_type": "code",
      "metadata": {
        "id": "_JmkLb4dc1vE",
        "colab_type": "code",
        "outputId": "fb7c66ca-5aca-4b29-aa4c-84171a2eca54",
        "colab": {
          "base_uri": "https://localhost:8080/",
          "height": 287
        }
      },
      "source": [
        "## list remaining features\n",
        "df.columns"
      ],
      "execution_count": 0,
      "outputs": [
        {
          "output_type": "execute_result",
          "data": {
            "text/plain": [
              "Index(['experiences_offered', 'host_since', 'host_response_time',\n",
              "       'host_response_rate', 'host_is_superhost', 'host_listings_count',\n",
              "       'host_identity_verified', 'neighbourhood_cleansed', 'property_type',\n",
              "       'room_type', 'accommodates', 'bathrooms', 'bedrooms', 'beds',\n",
              "       'bed_type', 'amenities', 'price', 'security_deposit', 'cleaning_fee',\n",
              "       'guests_included', 'extra_people', 'minimum_nights', 'maximum_nights',\n",
              "       'calendar_updated', 'availability_30', 'availability_60',\n",
              "       'availability_90', 'availability_365', 'number_of_reviews',\n",
              "       'number_of_reviews_ltm', 'first_review', 'last_review',\n",
              "       'review_scores_rating', 'review_scores_accuracy',\n",
              "       'review_scores_cleanliness', 'review_scores_checkin',\n",
              "       'review_scores_communication', 'review_scores_location',\n",
              "       'review_scores_value', 'instant_bookable', 'cancellation_policy',\n",
              "       'reviews_per_month'],\n",
              "      dtype='object')"
            ]
          },
          "metadata": {
            "tags": []
          },
          "execution_count": 19
        }
      ]
    },
    {
      "cell_type": "markdown",
      "metadata": {
        "id": "RgktSdr4dRou",
        "colab_type": "text"
      },
      "source": [
        "## Experiences offered"
      ]
    },
    {
      "cell_type": "code",
      "metadata": {
        "id": "1n36Q_sTcCUK",
        "colab_type": "code",
        "outputId": "8408a0cd-f8b8-40c9-d4d6-a67fa3975ac3",
        "colab": {
          "base_uri": "https://localhost:8080/",
          "height": 53
        }
      },
      "source": [
        "## not useful \n",
        "df.experiences_offered.value_counts()"
      ],
      "execution_count": 0,
      "outputs": [
        {
          "output_type": "execute_result",
          "data": {
            "text/plain": [
              "none    24586\n",
              "Name: experiences_offered, dtype: int64"
            ]
          },
          "metadata": {
            "tags": []
          },
          "execution_count": 20
        }
      ]
    },
    {
      "cell_type": "code",
      "metadata": {
        "id": "m4vTDr_hcbPI",
        "colab_type": "code",
        "colab": {}
      },
      "source": [
        "## drop experiences_offered columns since it was all none\n",
        "df.drop('experiences_offered', axis=1, inplace=True)"
      ],
      "execution_count": 0,
      "outputs": []
    },
    {
      "cell_type": "markdown",
      "metadata": {
        "id": "zaPGvcJCdVbz",
        "colab_type": "text"
      },
      "source": [
        "## Host Since"
      ]
    },
    {
      "cell_type": "code",
      "metadata": {
        "id": "drKPi8m2coDq",
        "colab_type": "code",
        "outputId": "b5d27946-ae2c-4469-cf2c-a33f82c61d66",
        "colab": {
          "base_uri": "https://localhost:8080/",
          "height": 53
        }
      },
      "source": [
        "### Converting to datetime\n",
        "df.host_since = pd.to_datetime(df.host_since) \n",
        "\n",
        "## Calculating the number of days host has been active up to day data was scraped\n",
        "df['host_days_active'] = (datetime(2019, 11, 12) - df.host_since).astype('timedelta64[D]')\n",
        "\n",
        "## Printing mean and median\n",
        "print(\"Mean days as host:\", round(df['host_days_active'].mean(),0))\n",
        "print(\"Median days as host:\", df['host_days_active'].median())\n",
        "\n",
        "#@ Replacing null values with the median\n",
        "df.host_days_active.fillna(df.host_days_active.median(), inplace=True)"
      ],
      "execution_count": 0,
      "outputs": [
        {
          "output_type": "stream",
          "text": [
            "Mean days as host: 1585.0\n",
            "Median days as host: 1580.0\n"
          ],
          "name": "stdout"
        }
      ]
    },
    {
      "cell_type": "markdown",
      "metadata": {
        "id": "qdP0d2qxeUBl",
        "colab_type": "text"
      },
      "source": [
        "## Host response time"
      ]
    },
    {
      "cell_type": "code",
      "metadata": {
        "id": "kyoCaeh0d2V1",
        "colab_type": "code",
        "outputId": "49899836-7023-4483-82c2-58f706f35510",
        "colab": {
          "base_uri": "https://localhost:8080/",
          "height": 197
        }
      },
      "source": [
        "print(\"Null values:\", df.host_response_time.isna().sum())\n",
        "print(f\"Percentage Null: {round((df.host_response_time.isna().sum()/len(df))*100, 1)}%\")\n",
        "\n",
        "# Number of rows without a value for host_response_time which have also not been reviewed\n",
        "len(df[df.loc[ :,['host_response_time ', 'first_review'] ].isnull().sum(axis=1) == 2])"
      ],
      "execution_count": 0,
      "outputs": [
        {
          "output_type": "stream",
          "text": [
            "Null values: 10761\n",
            "Percentage Null: 43.8%\n"
          ],
          "name": "stdout"
        },
        {
          "output_type": "stream",
          "text": [
            "/usr/local/lib/python3.6/dist-packages/pandas/core/indexing.py:1418: FutureWarning: \n",
            "Passing list-likes to .loc or [] with any missing label will raise\n",
            "KeyError in the future, you can use .reindex() as an alternative.\n",
            "\n",
            "See the documentation here:\n",
            "https://pandas.pydata.org/pandas-docs/stable/user_guide/indexing.html#deprecate-loc-reindex-listlike\n",
            "  return self._getitem_tuple(key)\n"
          ],
          "name": "stderr"
        },
        {
          "output_type": "execute_result",
          "data": {
            "text/plain": [
              "4081"
            ]
          },
          "metadata": {
            "tags": []
          },
          "execution_count": 23
        }
      ]
    },
    {
      "cell_type": "code",
      "metadata": {
        "id": "ThkhG1z0eb1h",
        "colab_type": "code",
        "outputId": "fdf92126-d70a-498d-8ef2-aabb1fde4533",
        "colab": {
          "base_uri": "https://localhost:8080/",
          "height": 125
        }
      },
      "source": [
        "## we are going to make an unknown category for later use\n",
        "df.host_response_time.fillna(\"unknown\", inplace=True)\n",
        "df.host_response_time.value_counts(normalize=True)"
      ],
      "execution_count": 0,
      "outputs": [
        {
          "output_type": "execute_result",
          "data": {
            "text/plain": [
              "unknown               0.437688\n",
              "within an hour        0.297974\n",
              "within a few hours    0.129261\n",
              "within a day          0.114049\n",
              "a few days or more    0.021028\n",
              "Name: host_response_time, dtype: float64"
            ]
          },
          "metadata": {
            "tags": []
          },
          "execution_count": 24
        }
      ]
    },
    {
      "cell_type": "markdown",
      "metadata": {
        "id": "aEDkzhu2e9B6",
        "colab_type": "text"
      },
      "source": [
        "## Host response rate"
      ]
    },
    {
      "cell_type": "code",
      "metadata": {
        "id": "YdkhURaNepJn",
        "colab_type": "code",
        "outputId": "3d6a0e64-4c88-415f-a364-b744482ca31c",
        "colab": {
          "base_uri": "https://localhost:8080/",
          "height": 53
        }
      },
      "source": [
        "## check percetage of null values for this category\n",
        "print(\"Null values:\", df.host_response_rate.isna().sum())\n",
        "print(f\"Percentage Null: {round((df.host_response_rate.isna().sum()/len(df))*100, 1)}%\")"
      ],
      "execution_count": 0,
      "outputs": [
        {
          "output_type": "stream",
          "text": [
            "Null values: 10761\n",
            "Percentage Null: 43.8%\n"
          ],
          "name": "stdout"
        }
      ]
    },
    {
      "cell_type": "code",
      "metadata": {
        "id": "wlIm29eRfL-0",
        "colab_type": "code",
        "outputId": "1e705a1b-66d5-483d-d8e2-e57f7123ffcc",
        "colab": {
          "base_uri": "https://localhost:8080/",
          "height": 53
        }
      },
      "source": [
        "## Remove % sign from the host_response_rate string and converting to an integer for machine learning\n",
        "df.host_response_rate = df.host_response_rate.str[:-1].astype('float64')\n",
        "## inspect response rates\n",
        "print(\"Mean host response rate:\", round(df['host_response_rate'].mean(),0))\n",
        "print(\"Median host response rate:\", df['host_response_rate'].median())"
      ],
      "execution_count": 0,
      "outputs": [
        {
          "output_type": "stream",
          "text": [
            "Mean host response rate: 92.0\n",
            "Median host response rate: 100.0\n"
          ],
          "name": "stdout"
        }
      ]
    },
    {
      "cell_type": "code",
      "metadata": {
        "id": "wVN8CLcHfnQy",
        "colab_type": "code",
        "outputId": "7d0063e1-ae6f-452e-e2b3-b24e9cd42253",
        "colab": {
          "base_uri": "https://localhost:8080/",
          "height": 125
        }
      },
      "source": [
        "## Categorize and bin response rate categories\n",
        "df.host_response_rate = pd.cut(df.host_response_rate, bins=[0, 50, 90, 99, 100], labels=['0-49%', '50-89%', '90-99%', '100%'], include_lowest=True)\n",
        "\n",
        "## Convert to string\n",
        "df.host_response_rate = df.host_response_rate.astype('str')\n",
        "\n",
        "## Replace nulls with 'unknown'\n",
        "df.host_response_rate.replace('nan', 'unknown', inplace=True)\n",
        "\n",
        "## Category counts\n",
        "df.host_response_rate.value_counts()"
      ],
      "execution_count": 0,
      "outputs": [
        {
          "output_type": "execute_result",
          "data": {
            "text/plain": [
              "unknown    10761\n",
              "100%        9814\n",
              "50-89%      2444\n",
              "0-49%        784\n",
              "90-99%       783\n",
              "Name: host_response_rate, dtype: int64"
            ]
          },
          "metadata": {
            "tags": []
          },
          "execution_count": 27
        }
      ]
    },
    {
      "cell_type": "markdown",
      "metadata": {
        "id": "lZNvg7q9gToe",
        "colab_type": "text"
      },
      "source": [
        "## superhost"
      ]
    },
    {
      "cell_type": "code",
      "metadata": {
        "id": "8tz7CiCRf7-6",
        "colab_type": "code",
        "outputId": "1ce09d08-3d90-4698-e7b9-58d2f8641ea0",
        "colab": {
          "base_uri": "https://localhost:8080/",
          "height": 161
        }
      },
      "source": [
        "## find the number of instances where superhost is null\n",
        "## Number of rows without a value for multiple host-related columns\n",
        "len(df[df.loc[ :,['host_since ', 'host_is_superhost', 'host_listings_count', 'host_has_profile_pic', 'host_identity_verified'] ].isnull().sum(axis=1) == 5])"
      ],
      "execution_count": 0,
      "outputs": [
        {
          "output_type": "stream",
          "text": [
            "/usr/local/lib/python3.6/dist-packages/pandas/core/indexing.py:1418: FutureWarning: \n",
            "Passing list-likes to .loc or [] with any missing label will raise\n",
            "KeyError in the future, you can use .reindex() as an alternative.\n",
            "\n",
            "See the documentation here:\n",
            "https://pandas.pydata.org/pandas-docs/stable/user_guide/indexing.html#deprecate-loc-reindex-listlike\n",
            "  return self._getitem_tuple(key)\n"
          ],
          "name": "stderr"
        },
        {
          "output_type": "execute_result",
          "data": {
            "text/plain": [
              "28"
            ]
          },
          "metadata": {
            "tags": []
          },
          "execution_count": 28
        }
      ]
    },
    {
      "cell_type": "code",
      "metadata": {
        "id": "9rpyZlioge1p",
        "colab_type": "code",
        "colab": {}
      },
      "source": [
        "## drop rows where multiple items are missing\n",
        "df.dropna(subset=['host_since'], inplace=True)"
      ],
      "execution_count": 0,
      "outputs": []
    },
    {
      "cell_type": "markdown",
      "metadata": {
        "id": "tTeLTlfYgut1",
        "colab_type": "text"
      },
      "source": [
        "## property type"
      ]
    },
    {
      "cell_type": "code",
      "metadata": {
        "id": "KWrVUOTjgnsE",
        "colab_type": "code",
        "outputId": "15ee9192-ba16-4f40-e29b-8c449cf86a91",
        "colab": {
          "base_uri": "https://localhost:8080/",
          "height": 611
        }
      },
      "source": [
        "## inspect feature\n",
        "df.property_type.value_counts()"
      ],
      "execution_count": 0,
      "outputs": [
        {
          "output_type": "execute_result",
          "data": {
            "text/plain": [
              "Apartment                 21824\n",
              "Condominium                 656\n",
              "Loft                        482\n",
              "House                       470\n",
              "Serviced apartment          297\n",
              "Hostel                      188\n",
              "Townhouse                   114\n",
              "Hotel                        93\n",
              "Boutique hotel               89\n",
              "Guest suite                  71\n",
              "Guesthouse                   59\n",
              "Bed and breakfast            37\n",
              "Other                        34\n",
              "Bungalow                     24\n",
              "Houseboat                    17\n",
              "Villa                        14\n",
              "Aparthotel                   13\n",
              "Boat                         12\n",
              "Tiny house                   12\n",
              "Camper/RV                    12\n",
              "Cottage                       8\n",
              "Pension (South Korea)         8\n",
              "Cabin                         7\n",
              "Barn                          5\n",
              "Treehouse                     3\n",
              "Castle                        3\n",
              "Lighthouse                    1\n",
              "Earth house                   1\n",
              "Resort                        1\n",
              "Tipi                          1\n",
              "Cave                          1\n",
              "Casa particular (Cuba)        1\n",
              "Name: property_type, dtype: int64"
            ]
          },
          "metadata": {
            "tags": []
          },
          "execution_count": 30
        }
      ]
    },
    {
      "cell_type": "code",
      "metadata": {
        "id": "gplnIMcJg-V2",
        "colab_type": "code",
        "colab": {}
      },
      "source": [
        "## Categorize properties as house or apartment\n",
        "df.property_type.replace({\n",
        "    'Condominium' : 'House',\n",
        "    'Loft' : 'Apartment',\n",
        "    'Serviced apartment': 'Apartment',\n",
        "    'Townhouse' : 'House',\n",
        "    'Hotel' : 'Apartment',\n",
        "    'Boutique hotel' : 'Apartment',\n",
        "    'Guest suite' : 'Apartment',\n",
        "    'Guesthouse' : 'House',\n",
        "    'Bungalow': 'House',\n",
        "    'Houseboat' : 'House',\n",
        "    'Villa' : 'House',\n",
        "    'Aparthotel' : 'Apartment',\n",
        "    'Tiny house': 'House',\n",
        "    'Cottage' : 'House',\n",
        "    'Treehouse' : 'House',\n",
        "    'Castle' : 'House',\n",
        "    'Lighthouse' : 'House',\n",
        "    'Earth house': 'House'  \n",
        "    }, inplace=True)\n"
      ],
      "execution_count": 0,
      "outputs": []
    },
    {
      "cell_type": "code",
      "metadata": {
        "id": "zvr9V6n9lEC7",
        "colab_type": "code",
        "colab": {}
      },
      "source": [
        "## Replace all the other categories with category type other\n",
        "## if its not an apartment or a house its other\n",
        "df.loc[~df.property_type.isin(['House', 'Apartment']), 'property_type'] = 'Other'"
      ],
      "execution_count": 0,
      "outputs": []
    },
    {
      "cell_type": "code",
      "metadata": {
        "id": "bnWvMK73lQep",
        "colab_type": "code",
        "outputId": "609e0c7a-a3b1-4831-d176-8f70439c2507",
        "colab": {
          "base_uri": "https://localhost:8080/",
          "height": 89
        }
      },
      "source": [
        "## inspect our work\n",
        "df.property_type.value_counts()"
      ],
      "execution_count": 0,
      "outputs": [
        {
          "output_type": "execute_result",
          "data": {
            "text/plain": [
              "Apartment    22869\n",
              "House         1382\n",
              "Other          307\n",
              "Name: property_type, dtype: int64"
            ]
          },
          "metadata": {
            "tags": []
          },
          "execution_count": 33
        }
      ]
    },
    {
      "cell_type": "markdown",
      "metadata": {
        "id": "n03A0hp-lWRb",
        "colab_type": "text"
      },
      "source": [
        "## bathrooms, bedrooms and beds"
      ]
    },
    {
      "cell_type": "code",
      "metadata": {
        "id": "TLZdKoOIlT7O",
        "colab_type": "code",
        "colab": {}
      },
      "source": [
        "## for loop that will go through these three columns\n",
        "## it will fill the median value for each column\n",
        "## we are using median values so we don't have .73 bedrooms or something wierd like that\n",
        "for col in ['bathrooms', 'bedrooms', 'beds']:\n",
        "    df[col].fillna(df[col].median(), inplace=True)"
      ],
      "execution_count": 0,
      "outputs": []
    },
    {
      "cell_type": "markdown",
      "metadata": {
        "id": "e3XcMzg5l63C",
        "colab_type": "text"
      },
      "source": [
        "## bed type"
      ]
    },
    {
      "cell_type": "code",
      "metadata": {
        "id": "RtRuaFqGl1dP",
        "colab_type": "code",
        "outputId": "2dce0521-4559-4b53-a29b-d9b8659de48c",
        "colab": {
          "base_uri": "https://localhost:8080/",
          "height": 125
        }
      },
      "source": [
        "## inspect values\n",
        "df.bed_type.value_counts(normalize=True)"
      ],
      "execution_count": 0,
      "outputs": [
        {
          "output_type": "execute_result",
          "data": {
            "text/plain": [
              "Real Bed         0.973084\n",
              "Pull-out Sofa    0.015229\n",
              "Futon            0.008388\n",
              "Couch            0.002565\n",
              "Airbed           0.000733\n",
              "Name: bed_type, dtype: float64"
            ]
          },
          "metadata": {
            "tags": []
          },
          "execution_count": 35
        }
      ]
    },
    {
      "cell_type": "code",
      "metadata": {
        "id": "BUzOlpU1mFns",
        "colab_type": "code",
        "colab": {}
      },
      "source": [
        "## since 97% have the same value this feature will be dropped\n",
        "df.drop('bed_type', axis=1, inplace=True)"
      ],
      "execution_count": 0,
      "outputs": []
    },
    {
      "cell_type": "markdown",
      "metadata": {
        "id": "u5nDJMzzmQqT",
        "colab_type": "text"
      },
      "source": [
        "## amenities"
      ]
    },
    {
      "cell_type": "code",
      "metadata": {
        "id": "L6f-k9YZmP2r",
        "colab_type": "code",
        "outputId": "506a65b5-1775-41cb-e1b4-65aa621ac359",
        "colab": {
          "base_uri": "https://localhost:8080/",
          "height": 53
        }
      },
      "source": [
        "## inspect amenities for a listing\n",
        "# Example of amenities listed\n",
        "df.amenities[:1].values"
      ],
      "execution_count": 0,
      "outputs": [
        {
          "output_type": "execute_result",
          "data": {
            "text/plain": [
              "array(['{\"Cable TV\",Internet,Wifi,\"Free street parking\",Heating,\"Family/kid friendly\",Washer,\"Smoke detector\",Essentials,\"Lock on bedroom door\",\"Hair dryer\",\"Hot water\",\"Host greets you\"}'],\n",
              "      dtype=object)"
            ]
          },
          "metadata": {
            "tags": []
          },
          "execution_count": 37
        }
      ]
    },
    {
      "cell_type": "code",
      "metadata": {
        "id": "FFBFF_-omnjM",
        "colab_type": "code",
        "outputId": "b4c521d1-89cd-43bc-fb97-2824778239b6",
        "colab": {
          "base_uri": "https://localhost:8080/",
          "height": 1000
        }
      },
      "source": [
        "# Creating a set of all possible unique amenities\n",
        "## cast the array as list\n",
        "amenities_list = list(df.amenities)\n",
        "## join all the words together using empty space\n",
        "amenities_list_string = \" \".join(amenities_list)\n",
        "## replace open brackets with empty space\n",
        "amenities_list_string = amenities_list_string.replace('{', '')\n",
        "## replace closing brackets with comma\n",
        "amenities_list_string = amenities_list_string.replace('}', ',')\n",
        "## remove extra punctuation\n",
        "amenities_list_string = amenities_list_string.replace('\"', '')\n",
        "## strip whitespace and split on commas\n",
        "amenities_set = [x.strip() for x in amenities_list_string.split(',')]\n",
        "## remove duplicates\n",
        "amenities_set = set(amenities_set)\n",
        "## inspect our work\n",
        "amenities_set"
      ],
      "execution_count": 0,
      "outputs": [
        {
          "output_type": "execute_result",
          "data": {
            "text/plain": [
              "{'',\n",
              " '24-hour check-in',\n",
              " 'Accessible-height bed',\n",
              " 'Accessible-height toilet',\n",
              " 'Air conditioning',\n",
              " 'Air purifier',\n",
              " 'Amazon Echo',\n",
              " 'BBQ grill',\n",
              " 'Baby bath',\n",
              " 'Baby monitor',\n",
              " 'Babysitter recommendations',\n",
              " 'Balcony',\n",
              " 'Bath towel',\n",
              " 'Bathroom essentials',\n",
              " 'Bathtub',\n",
              " 'Bathtub with bath chair',\n",
              " 'Beach essentials',\n",
              " 'Beach view',\n",
              " 'Beachfront',\n",
              " 'Bed linens',\n",
              " 'Bedroom comforts',\n",
              " 'Bidet',\n",
              " 'Body soap',\n",
              " 'Breakfast',\n",
              " 'Breakfast table',\n",
              " 'Building staff',\n",
              " 'Buzzer/wireless intercom',\n",
              " 'Cable TV',\n",
              " 'Carbon monoxide detector',\n",
              " 'Cat(s)',\n",
              " 'Ceiling fan',\n",
              " 'Ceiling hoist',\n",
              " 'Changing table',\n",
              " 'Children’s books and toys',\n",
              " 'Children’s dinnerware',\n",
              " 'Cleaning before checkout',\n",
              " 'Coffee maker',\n",
              " 'Convection oven',\n",
              " 'Cooking basics',\n",
              " 'Crib',\n",
              " 'DVD player',\n",
              " 'Day bed',\n",
              " 'Disabled parking spot',\n",
              " 'Dishes and silverware',\n",
              " 'Dishwasher',\n",
              " 'Dog(s)',\n",
              " 'Doorman',\n",
              " 'Double oven',\n",
              " 'Dryer',\n",
              " 'EV charger',\n",
              " 'Electric profiling bed',\n",
              " 'Elevator',\n",
              " 'En suite bathroom',\n",
              " 'Espresso machine',\n",
              " 'Essentials',\n",
              " 'Ethernet connection',\n",
              " 'Extra pillows and blankets',\n",
              " 'Extra space around bed',\n",
              " 'Family/kid friendly',\n",
              " 'Fire extinguisher',\n",
              " 'Fire pit',\n",
              " 'Fireplace guards',\n",
              " 'Firm mattress',\n",
              " 'First aid kit',\n",
              " 'Fixed grab bars for shower',\n",
              " 'Fixed grab bars for toilet',\n",
              " 'Flat path to guest entrance',\n",
              " 'Formal dining area',\n",
              " 'Free parking on premises',\n",
              " 'Free street parking',\n",
              " 'Full kitchen',\n",
              " 'Game console',\n",
              " 'Garden or backyard',\n",
              " 'Gas oven',\n",
              " 'Ground floor access',\n",
              " 'Gym',\n",
              " 'HBO GO',\n",
              " 'Hair dryer',\n",
              " 'Hammock',\n",
              " 'Handheld shower head',\n",
              " 'Hangers',\n",
              " 'Heated floors',\n",
              " 'Heated towel rack',\n",
              " 'Heating',\n",
              " 'High chair',\n",
              " 'High-resolution computer monitor',\n",
              " 'Host greets you',\n",
              " 'Hot tub',\n",
              " 'Hot water',\n",
              " 'Hot water kettle',\n",
              " 'Indoor fireplace',\n",
              " 'Internet',\n",
              " 'Iron',\n",
              " 'Keypad',\n",
              " 'Kitchen',\n",
              " 'Kitchenette',\n",
              " 'Lake access',\n",
              " 'Laptop friendly workspace',\n",
              " 'Lock on bedroom door',\n",
              " 'Lockbox',\n",
              " 'Long term stays allowed',\n",
              " 'Luggage dropoff allowed',\n",
              " 'Memory foam mattress',\n",
              " 'Microwave',\n",
              " 'Mini fridge',\n",
              " 'Mobile hoist',\n",
              " 'Mudroom',\n",
              " 'Murphy bed',\n",
              " 'Netflix',\n",
              " 'No stairs or steps to enter',\n",
              " 'Other',\n",
              " 'Other pet(s)',\n",
              " 'Outdoor parking',\n",
              " 'Outdoor seating',\n",
              " 'Outlet covers',\n",
              " 'Oven',\n",
              " 'Pack ’n Play/travel crib',\n",
              " 'Paid parking off premises',\n",
              " 'Paid parking on premises',\n",
              " 'Patio or balcony',\n",
              " 'Pets allowed',\n",
              " 'Pets live on this property',\n",
              " 'Pillow-top mattress',\n",
              " 'Pocket wifi',\n",
              " 'Pool',\n",
              " 'Pool with pool hoist',\n",
              " 'Printer',\n",
              " 'Private bathroom',\n",
              " 'Private entrance',\n",
              " 'Private hot tub',\n",
              " 'Private living room',\n",
              " 'Projector and screen',\n",
              " 'Rain shower',\n",
              " 'Refrigerator',\n",
              " 'Room-darkening shades',\n",
              " 'Safety card',\n",
              " 'Self check-in',\n",
              " 'Shampoo',\n",
              " 'Shower chair',\n",
              " 'Single level home',\n",
              " 'Ski-in/Ski-out',\n",
              " 'Smart TV',\n",
              " 'Smart lock',\n",
              " 'Smoke detector',\n",
              " 'Smoking allowed',\n",
              " 'Soaking tub',\n",
              " 'Sound system',\n",
              " 'Stair gates',\n",
              " 'Stand alone steam shower',\n",
              " 'Standing valet',\n",
              " 'Steam oven',\n",
              " 'Step-free shower',\n",
              " 'Stove',\n",
              " 'Suitable for events',\n",
              " 'Sun loungers',\n",
              " 'TV',\n",
              " 'Table corner guards',\n",
              " 'Terrace',\n",
              " 'Toilet paper',\n",
              " 'Walk-in shower',\n",
              " 'Warming drawer',\n",
              " 'Washer',\n",
              " 'Washer / Dryer',\n",
              " 'Waterfront',\n",
              " 'Well-lit path to entrance',\n",
              " 'Wheelchair accessible',\n",
              " 'Wide clearance to shower',\n",
              " 'Wide doorway to guest bathroom',\n",
              " 'Wide entrance',\n",
              " 'Wide entrance for guests',\n",
              " 'Wide entryway',\n",
              " 'Wide hallways',\n",
              " 'Wifi',\n",
              " 'Window guards',\n",
              " 'Wine cooler',\n",
              " 'toilet',\n",
              " 'translation missing: en.hosting_amenity_49',\n",
              " 'translation missing: en.hosting_amenity_50'}"
            ]
          },
          "metadata": {
            "tags": []
          },
          "execution_count": 38
        }
      ]
    },
    {
      "cell_type": "code",
      "metadata": {
        "id": "v2PK6rKxnmLv",
        "colab_type": "code",
        "colab": {}
      },
      "source": [
        "## we can bin many of these amenities together\n",
        "\n",
        "## change 24 hour check in to a better format\n",
        "df.loc[df['amenities'].str.contains('24-hour check-in'), 'check_in_24h'] = 1\n",
        "\n",
        "## handicap accessible \n",
        "df.loc[df['amenities'].str.contains('Accessible-height bed|Flat path to guest entrance|Step-free shower|No stairs or steps to enter|Fixed grab bars for toilet|Fixed grab bars for shower|Accessible-height toilet|Wide entryway|Wide hallways|Wide entrance for guests|Wide entrance|Wide doorway to guest bathroom|Wide clearance to shower|Disabled parking spot'), 'handicap_accessible'] = 1\n",
        "\n"
      ],
      "execution_count": 0,
      "outputs": []
    },
    {
      "cell_type": "code",
      "metadata": {
        "id": "za-BQ267rC0Y",
        "colab_type": "code",
        "colab": {}
      },
      "source": [
        "## add category for high_end_electronics\n",
        "df.loc[df['amenities'].str.contains('Amazon Echo|HBO GO|High-resolution computer monitor|Sound system|Printer|Laptop friendly workspace|DVD player|Game console|Netflix|Projector and screen|Smart TV'), 'high_end_electronics'] = 1"
      ],
      "execution_count": 0,
      "outputs": []
    },
    {
      "cell_type": "code",
      "metadata": {
        "id": "_SQ0k4Vk1mGy",
        "colab_type": "code",
        "colab": {}
      },
      "source": [
        "## add category for air conditioning\n",
        "df.loc[df['amenities'].str.contains('Air conditioning|Heating'), 'air_conditioning'] = 1"
      ],
      "execution_count": 0,
      "outputs": []
    },
    {
      "cell_type": "code",
      "metadata": {
        "id": "A61LAlrZrC8I",
        "colab_type": "code",
        "colab": {}
      },
      "source": [
        "## add category for general appliances\n",
        "df.loc[df['amenities'].str.contains('Convection oven|Essentials|Stove|Refrigerator|Oven|Microwave|Gas oven|Double oven|Dishwasher'), 'standard_appliances'] = 1"
      ],
      "execution_count": 0,
      "outputs": []
    },
    {
      "cell_type": "code",
      "metadata": {
        "id": "xaEtm7qMsRoE",
        "colab_type": "code",
        "colab": {}
      },
      "source": [
        "## add category for high end appliances\n",
        "df.loc[df['amenities'].str.contains('Air purifier|Wine cooler|Mobile hoist|Mini fridge|Steam oven|Room-darkening shades|Indoor fireplace|Hot water kettle|Heated floors|Electric profiling bed|Ceiling hoist|Ceiling fan|'), 'high_end_appliances'] = 1"
      ],
      "execution_count": 0,
      "outputs": []
    },
    {
      "cell_type": "code",
      "metadata": {
        "id": "YzyQeUy6sRrm",
        "colab_type": "code",
        "colab": {}
      },
      "source": [
        "## add category for standard bath amenities\n",
        "df.loc[df['amenities'].str.contains('Bath towel|Hot water|toilet|Walk-in shower|Toilet paper|Shampoo|Hair dryer|Soaking tub|Body soap|Bathtub|Bathroom essentials'), 'standard_bathroom_items'] = 1"
      ],
      "execution_count": 0,
      "outputs": []
    },
    {
      "cell_type": "code",
      "metadata": {
        "id": "3ooaR-4ysRv7",
        "colab_type": "code",
        "colab": {}
      },
      "source": [
        "## add category for high end bath amenities\n",
        "df.loc[df['amenities'].str.contains('Bathtub with bath chair|En suite bathroom|Warming drawer|Stand alone steam shower|Shower chair|Rain shower|Heated towel rack|Handheld shower head|Bidet'), 'bathroom_items_luxury'] = 1"
      ],
      "execution_count": 0,
      "outputs": []
    },
    {
      "cell_type": "code",
      "metadata": {
        "id": "PHNIPdLBsRyu",
        "colab_type": "code",
        "colab": {}
      },
      "source": [
        "## add category for laundry essentials\n",
        "df.loc[df['amenities'].str.contains('Dryer|Washer / Dryer|Washer|Hangers|Iron'), 'laundry_essentials'] = 1"
      ],
      "execution_count": 0,
      "outputs": []
    },
    {
      "cell_type": "code",
      "metadata": {
        "id": "mR_tfS7ksR1a",
        "colab_type": "code",
        "colab": {}
      },
      "source": [
        "## add category for kitchen essentials\n",
        "df.loc[df['amenities'].str.contains('Cooking basics|Kitchenette|Dishes and silverware'), 'kitchen_essentials'] = 1"
      ],
      "execution_count": 0,
      "outputs": []
    },
    {
      "cell_type": "code",
      "metadata": {
        "id": "6gsc8dPo_4II",
        "colab_type": "code",
        "colab": {}
      },
      "source": [
        "## add category for high end kitchen items\n",
        "df.loc[df['amenities'].str.contains('Breakfast table|Formal dining area|Kitchen|Full kitchen'), 'kitchen_luxury'] = 1"
      ],
      "execution_count": 0,
      "outputs": []
    },
    {
      "cell_type": "code",
      "metadata": {
        "id": "IGb5narl-Z3C",
        "colab_type": "code",
        "colab": {}
      },
      "source": [
        "## add category for kid friendly\n",
        "df.loc[df['amenities'].str.contains('Baby bath|Stair gates|Pack ’n Play/travel crib|High chair|Family/kid friendly|Crib|Children’s dinnerware|Children’s books and toys|Changing table|Babysitter recommendations|Baby monitor'), 'child_friendly'] = 1"
      ],
      "execution_count": 0,
      "outputs": []
    },
    {
      "cell_type": "code",
      "metadata": {
        "id": "ou1UeO7kBw-8",
        "colab_type": "code",
        "colab": {}
      },
      "source": [
        "## add category for safety and security\n",
        "df.loc[df['amenities'].str.contains('Buzzer/wireless intercom|Well-lit path to entrance|Window guards|Table corner guards|Smoke detector|Smart lock|Safety card|Outlet covers|Lockbox|Lock on bedroom door|Keypad|First aid kit|Fireplace guards|Fire extinguisher|Carbon monoxide detector'), 'safety_and_security'] = 1"
      ],
      "execution_count": 0,
      "outputs": []
    },
    {
      "cell_type": "code",
      "metadata": {
        "id": "pplDcjSsBxHw",
        "colab_type": "code",
        "colab": {}
      },
      "source": [
        "## add category for outdoor space\n",
        "df.loc[df['amenities'].str.contains('Balcony|Sun loungers|Terrace|Patio or balcony|Hammock|Outdoor seating|Mudroom|Fire pit|Garden or backyard'), 'outdoor_space'] = 1"
      ],
      "execution_count": 0,
      "outputs": []
    },
    {
      "cell_type": "code",
      "metadata": {
        "id": "pTCta90vBxK8",
        "colab_type": "code",
        "colab": {}
      },
      "source": [
        "## add category for bbq\n",
        "df.loc[df['amenities'].str.contains('BBQ grill'), 'bbq'] = 1"
      ],
      "execution_count": 0,
      "outputs": []
    },
    {
      "cell_type": "code",
      "metadata": {
        "id": "KPi6rJgRBxOS",
        "colab_type": "code",
        "colab": {}
      },
      "source": [
        "## add category for natural amenities\n",
        "df.loc[df['amenities'].str.contains('Beach view|Beach essentials|Beachfront|Lake access|Mountain view|Ski-in/Ski-out|Waterfront'), 'nature_and_views'] = 1"
      ],
      "execution_count": 0,
      "outputs": []
    },
    {
      "cell_type": "code",
      "metadata": {
        "id": "GdjxLIr4f196",
        "colab_type": "code",
        "colab": {}
      },
      "source": [
        "## add category for tv\n",
        "df.loc[df['amenities'].str.contains('TV|Cable TV'), 'tv'] = 1"
      ],
      "execution_count": 0,
      "outputs": []
    },
    {
      "cell_type": "code",
      "metadata": {
        "id": "hRdBewzLgFyk",
        "colab_type": "code",
        "outputId": "7e1f6955-d5a7-4e36-e56c-817d9ad7b1bd",
        "colab": {
          "base_uri": "https://localhost:8080/",
          "height": 53
        }
      },
      "source": [
        "## add category for pets\n",
        "df.loc[df['amenities'].str.contains('Pets|Pets live on this property|Pets allowed|Other pet(s)|pet|Cat(s)|Dog(s)'), 'pets_allowed'] = 1"
      ],
      "execution_count": 0,
      "outputs": [
        {
          "output_type": "stream",
          "text": [
            "/usr/local/lib/python3.6/dist-packages/pandas/core/strings.py:1843: UserWarning: This pattern has match groups. To actually get the groups, use str.extract.\n",
            "  return func(self, *args, **kwargs)\n"
          ],
          "name": "stderr"
        }
      ]
    },
    {
      "cell_type": "code",
      "metadata": {
        "id": "bwbM9umvgF4Q",
        "colab_type": "code",
        "colab": {}
      },
      "source": [
        "## add category for bedding essentials\n",
        "df.loc[df['amenities'].str.contains('Bed linens|Firm mattress'), 'bedding_essentials'] = 1"
      ],
      "execution_count": 0,
      "outputs": []
    },
    {
      "cell_type": "code",
      "metadata": {
        "id": "yVXFLtWmgzzC",
        "colab_type": "code",
        "colab": {}
      },
      "source": [
        "## add category for bedding essentials\n",
        "df.loc[df['amenities'].str.contains('Bedroom comforts|Pillow-top mattress|Murphy bed|Memory foam mattress|Extra space around bed|Day bed|Extra pillows and blankets'), 'bedding_luxury'] = 1"
      ],
      "execution_count": 0,
      "outputs": []
    },
    {
      "cell_type": "code",
      "metadata": {
        "id": "P0ZVK23Tgz4s",
        "colab_type": "code",
        "colab": {}
      },
      "source": [
        "## add category for coffee machines\n",
        "df.loc[df['amenities'].str.contains('Coffee maker|Espresso machine'), 'coffee_machine'] = 1"
      ],
      "execution_count": 0,
      "outputs": []
    },
    {
      "cell_type": "code",
      "metadata": {
        "id": "U6ySjnxCgz2x",
        "colab_type": "code",
        "colab": {}
      },
      "source": [
        "## add category for included breakfast\n",
        "df.loc[df['amenities'].str.contains('Breakfast'), 'breakfast'] = 1"
      ],
      "execution_count": 0,
      "outputs": []
    },
    {
      "cell_type": "code",
      "metadata": {
        "id": "8NPjevRRgF2P",
        "colab_type": "code",
        "colab": {}
      },
      "source": [
        "## add category for internet access\n",
        "df.loc[df['amenities'].str.contains('Internet|Ethernet connection|Pocket wifi|Wifi'), 'internet'] = 1"
      ],
      "execution_count": 0,
      "outputs": []
    },
    {
      "cell_type": "code",
      "metadata": {
        "id": "EFfI7EbfiV0m",
        "colab_type": "code",
        "colab": {}
      },
      "source": [
        "## add category for onsite staff\n",
        "df.loc[df['amenities'].str.contains('Building staff|Standing valet|Doorman'), 'onsite_staff'] = 1"
      ],
      "execution_count": 0,
      "outputs": []
    },
    {
      "cell_type": "code",
      "metadata": {
        "id": "J9T4RzrIiV-F",
        "colab_type": "code",
        "colab": {}
      },
      "source": [
        "## add category for cleaning before checkout\n",
        "df.loc[df['amenities'].str.contains('Cleaning before checkout'), 'clean_before_checkout'] = 1"
      ],
      "execution_count": 0,
      "outputs": []
    },
    {
      "cell_type": "code",
      "metadata": {
        "id": "afP3CG5LiWBv",
        "colab_type": "code",
        "colab": {}
      },
      "source": [
        "## add category for EV charger\n",
        "df.loc[df['amenities'].str.contains('EV charger'), 'ev_charger'] = 1"
      ],
      "execution_count": 0,
      "outputs": []
    },
    {
      "cell_type": "code",
      "metadata": {
        "id": "ugFUksV7iV7V",
        "colab_type": "code",
        "colab": {}
      },
      "source": [
        "## add category for elevator\n",
        "df.loc[df['amenities'].str.contains('Elevator'), 'elevator'] = 1"
      ],
      "execution_count": 0,
      "outputs": []
    },
    {
      "cell_type": "code",
      "metadata": {
        "id": "a_9j2bRTjJyU",
        "colab_type": "code",
        "colab": {}
      },
      "source": [
        "## add category for free parking\n",
        "df.loc[df['amenities'].str.contains('Free parking on premises|Outdoor parking|Free street parking'), 'free_parking'] = 1"
      ],
      "execution_count": 0,
      "outputs": []
    },
    {
      "cell_type": "code",
      "metadata": {
        "id": "TQAQ_komjJ3r",
        "colab_type": "code",
        "colab": {}
      },
      "source": [
        "## add category for ground floor \n",
        "df.loc[df['amenities'].str.contains('Ground floor access|Single level home'), 'ground_floor'] = 1"
      ],
      "execution_count": 0,
      "outputs": []
    },
    {
      "cell_type": "code",
      "metadata": {
        "id": "HtGRiM13jJ1r",
        "colab_type": "code",
        "colab": {}
      },
      "source": [
        "## add category for gym\n",
        "df.loc[df['amenities'].str.contains('Gym'), 'gym'] = 1"
      ],
      "execution_count": 0,
      "outputs": []
    },
    {
      "cell_type": "code",
      "metadata": {
        "id": "qQJjvS5oj7_H",
        "colab_type": "code",
        "colab": {}
      },
      "source": [
        "## add category for host greets you\n",
        "df.loc[df['amenities'].str.contains('Host greets you'), 'host_greeting'] = 1"
      ],
      "execution_count": 0,
      "outputs": []
    },
    {
      "cell_type": "code",
      "metadata": {
        "id": "ONgdANXnj8E5",
        "colab_type": "code",
        "colab": {}
      },
      "source": [
        "## add category for host greets you\n",
        "df.loc[df['amenities'].str.contains('Host greets you'), 'host_greeting'] = 1"
      ],
      "execution_count": 0,
      "outputs": []
    },
    {
      "cell_type": "code",
      "metadata": {
        "id": "e63Q2OWNj8KK",
        "colab_type": "code",
        "colab": {}
      },
      "source": [
        "## add category for hot tub or pool\n",
        "df.loc[df['amenities'].str.contains('Hot tub|Pool|Pool with pool hoist'), 'hot_tub_or_pool'] = 1"
      ],
      "execution_count": 0,
      "outputs": []
    },
    {
      "cell_type": "code",
      "metadata": {
        "id": "6ji13tsoj8II",
        "colab_type": "code",
        "colab": {}
      },
      "source": [
        "## add category for host greets you\n",
        "df.loc[df['amenities'].str.contains('Long term stays allowed'), 'long_term_stays'] = 1"
      ],
      "execution_count": 0,
      "outputs": []
    },
    {
      "cell_type": "code",
      "metadata": {
        "id": "mCeXvpYZj8C3",
        "colab_type": "code",
        "colab": {}
      },
      "source": [
        "## add category for host greets you\n",
        "df.loc[df['amenities'].str.contains('Luggage dropoff allowed'), 'luggage_dropoff'] = 1"
      ],
      "execution_count": 0,
      "outputs": []
    },
    {
      "cell_type": "code",
      "metadata": {
        "id": "uc2yL1Nmk2mb",
        "colab_type": "code",
        "colab": {}
      },
      "source": [
        "## add category for other\n",
        "df.loc[df['amenities'].str.contains('Other|translation missing: en.hosting_amenity_50|translation missing: en.hosting_amenity_49'), 'other'] = 1"
      ],
      "execution_count": 0,
      "outputs": []
    },
    {
      "cell_type": "code",
      "metadata": {
        "id": "JpTKHt-Ak2rG",
        "colab_type": "code",
        "colab": {}
      },
      "source": [
        "## add category for paid parking\n",
        "df.loc[df['amenities'].str.contains('Paid parking off premises|Paid parking on premises'), 'paid_parking'] = 1"
      ],
      "execution_count": 0,
      "outputs": []
    },
    {
      "cell_type": "code",
      "metadata": {
        "id": "j_7endObk2v6",
        "colab_type": "code",
        "colab": {}
      },
      "source": [
        "## add category for privacy \n",
        "df.loc[df['amenities'].str.contains('Private bathroom|Private entrance|Private hot tub|Private living room'), 'privacy'] = 1"
      ],
      "execution_count": 0,
      "outputs": []
    },
    {
      "cell_type": "code",
      "metadata": {
        "id": "XwUbUFjClo7F",
        "colab_type": "code",
        "colab": {}
      },
      "source": [
        "## add category for self check in\n",
        "df.loc[df['amenities'].str.contains('Self check-in'), 'self_check_in'] = 1"
      ],
      "execution_count": 0,
      "outputs": []
    },
    {
      "cell_type": "code",
      "metadata": {
        "id": "yxrnzr7vlpF4",
        "colab_type": "code",
        "colab": {}
      },
      "source": [
        "## add category for host greets you\n",
        "df.loc[df['amenities'].str.contains('Smoking allowed'), 'smoking_allowed'] = 1"
      ],
      "execution_count": 0,
      "outputs": []
    },
    {
      "cell_type": "code",
      "metadata": {
        "id": "rKEAAO1FlpPs",
        "colab_type": "code",
        "colab": {}
      },
      "source": [
        "## add category for host greets you\n",
        "df.loc[df['amenities'].str.contains('Suitable for events'), 'suitable_for_events'] = 1"
      ],
      "execution_count": 0,
      "outputs": []
    },
    {
      "cell_type": "code",
      "metadata": {
        "id": "GvPzSRyxmqwq",
        "colab_type": "code",
        "outputId": "0896a172-b2c2-499f-9e33-2db520a3e05f",
        "colab": {
          "base_uri": "https://localhost:8080/",
          "height": 35
        }
      },
      "source": [
        "## reduce dimensionality by dropping infrequent amenities\n",
        "# Replacing nulls with zeros for new columns\n",
        "cols_to_replace_nulls = df.iloc[:,41:].columns\n",
        "df[cols_to_replace_nulls] = df[cols_to_replace_nulls].fillna(0)\n",
        "\n",
        "# Produces a list of amenity features where one category (true or false) contains fewer than 10% of listings\n",
        "infrequent_amenities = []\n",
        "for col in df.iloc[:,41:].columns:\n",
        "    if df[col].sum() < len(df)/10:\n",
        "        infrequent_amenities.append(col)\n",
        "print(infrequent_amenities)\n",
        "\n",
        "# Dropping infrequent amenity features\n",
        "df.drop(infrequent_amenities, axis=1, inplace=True)\n",
        "\n",
        "# Dropping the original amenity feature\n",
        "df.drop('amenities', axis=1, inplace=True)"
      ],
      "execution_count": 0,
      "outputs": [
        {
          "output_type": "stream",
          "text": [
            "['check_in_24h', 'handicap_accessible', 'bathroom_items_luxury', 'bbq', 'nature_and_views', 'breakfast', 'onsite_staff', 'clean_before_checkout', 'ev_charger', 'ground_floor', 'gym', 'hot_tub_or_pool', 'self_check_in', 'suitable_for_events']\n"
          ],
          "name": "stdout"
        }
      ]
    },
    {
      "cell_type": "code",
      "metadata": {
        "id": "hcsLXjN7m3Ea",
        "colab_type": "code",
        "outputId": "e8c11f95-a8a5-4c78-f910-8dcf7523edb2",
        "colab": {
          "base_uri": "https://localhost:8080/",
          "height": 179
        }
      },
      "source": [
        "## inspect frequently occuring amenities\n",
        "df.columns[40:]"
      ],
      "execution_count": 0,
      "outputs": [
        {
          "output_type": "execute_result",
          "data": {
            "text/plain": [
              "Index(['high_end_electronics', 'air_conditioning', 'standard_appliances',\n",
              "       'high_end_appliances', 'standard_bathroom_items', 'laundry_essentials',\n",
              "       'kitchen_essentials', 'kitchen_luxury', 'child_friendly',\n",
              "       'safety_and_security', 'outdoor_space', 'tv', 'pets_allowed',\n",
              "       'bedding_essentials', 'bedding_luxury', 'coffee_machine', 'internet',\n",
              "       'elevator', 'free_parking', 'host_greeting', 'long_term_stays',\n",
              "       'luggage_dropoff', 'other', 'paid_parking', 'privacy',\n",
              "       'smoking_allowed'],\n",
              "      dtype='object')"
            ]
          },
          "metadata": {
            "tags": []
          },
          "execution_count": 80
        }
      ]
    },
    {
      "cell_type": "markdown",
      "metadata": {
        "id": "Ljuc0vcsmW6C",
        "colab_type": "text"
      },
      "source": [
        "## price"
      ]
    },
    {
      "cell_type": "code",
      "metadata": {
        "id": "fO0qs0TqrBz1",
        "colab_type": "code",
        "colab": {}
      },
      "source": [
        "## for price we need to convert it from string to integer and remove money sign\n",
        "df.price = df.price.str[1:-3]\n",
        "df.price = df.price.str.replace(\",\", \"\")\n",
        "df.price = df.price.astype('int64')"
      ],
      "execution_count": 0,
      "outputs": []
    },
    {
      "cell_type": "code",
      "metadata": {
        "id": "VkAZbzu0nJoz",
        "colab_type": "code",
        "outputId": "4ad59e41-32b7-42fb-939d-aff75643503e",
        "colab": {
          "base_uri": "https://localhost:8080/",
          "height": 251
        }
      },
      "source": [
        "## inspect changes\n",
        "df.price"
      ],
      "execution_count": 0,
      "outputs": [
        {
          "output_type": "execute_result",
          "data": {
            "text/plain": [
              "id\n",
              "1944         21\n",
              "3176         90\n",
              "3309         28\n",
              "6883        125\n",
              "7071         33\n",
              "           ... \n",
              "40055760     77\n",
              "40057919    140\n",
              "40061108     20\n",
              "40070345     35\n",
              "40086295     35\n",
              "Name: price, Length: 24558, dtype: int64"
            ]
          },
          "metadata": {
            "tags": []
          },
          "execution_count": 82
        }
      ]
    },
    {
      "cell_type": "markdown",
      "metadata": {
        "id": "t6kdQkNbndeI",
        "colab_type": "text"
      },
      "source": [
        "## security deposit"
      ]
    },
    {
      "cell_type": "code",
      "metadata": {
        "id": "DnfHmy4HnWXI",
        "colab_type": "code",
        "colab": {}
      },
      "source": [
        "## convert this string into an integer \n",
        "## remove currency symbol\n",
        "## fill empty values with 0 meaning no security deposit\n",
        "df.security_deposit = df.security_deposit.str[1:-3]\n",
        "df.security_deposit = df.security_deposit.str.replace(\",\", \"\")\n",
        "df.security_deposit.fillna(0, inplace=True)\n",
        "df.security_deposit = df.security_deposit.astype('int64')"
      ],
      "execution_count": 0,
      "outputs": []
    },
    {
      "cell_type": "markdown",
      "metadata": {
        "id": "zcX4MkxNntU4",
        "colab_type": "text"
      },
      "source": [
        "## cleaning fee"
      ]
    },
    {
      "cell_type": "code",
      "metadata": {
        "id": "Tulu5I6hnsQT",
        "colab_type": "code",
        "colab": {}
      },
      "source": [
        "## same as above\n",
        "df.cleaning_fee = df.cleaning_fee.str[1:-3]\n",
        "df.cleaning_fee = df.cleaning_fee.str.replace(\",\", \"\")\n",
        "df.cleaning_fee.fillna(0, inplace=True)\n",
        "df.cleaning_fee = df.cleaning_fee.astype('int64')"
      ],
      "execution_count": 0,
      "outputs": []
    },
    {
      "cell_type": "markdown",
      "metadata": {
        "id": "TOHYXlDtn5JO",
        "colab_type": "text"
      },
      "source": [
        "## extra people"
      ]
    },
    {
      "cell_type": "code",
      "metadata": {
        "id": "4e6e0oSjn3sa",
        "colab_type": "code",
        "colab": {}
      },
      "source": [
        "## same as above\n",
        "df.extra_people = df.extra_people.str[1:-3]\n",
        "df.extra_people = df.extra_people.str.replace(\",\", \"\")\n",
        "df.extra_people.fillna(0, inplace=True)\n",
        "df.extra_people = df.extra_people.astype('int64')"
      ],
      "execution_count": 0,
      "outputs": []
    },
    {
      "cell_type": "markdown",
      "metadata": {
        "id": "anbmMzrUoPdH",
        "colab_type": "text"
      },
      "source": [
        "## calender updated"
      ]
    },
    {
      "cell_type": "code",
      "metadata": {
        "id": "v1CSLTXxoEHT",
        "colab_type": "code",
        "outputId": "b41df0b9-5b14-4948-f861-1a2d4605b18f",
        "colab": {
          "base_uri": "https://localhost:8080/",
          "height": 35
        }
      },
      "source": [
        "## check number of categories\n",
        "df.calendar_updated.nunique()"
      ],
      "execution_count": 0,
      "outputs": [
        {
          "output_type": "execute_result",
          "data": {
            "text/plain": [
              "87"
            ]
          },
          "metadata": {
            "tags": []
          },
          "execution_count": 86
        }
      ]
    },
    {
      "cell_type": "code",
      "metadata": {
        "id": "t8syScuCoStz",
        "colab_type": "code",
        "outputId": "e2af03a9-78f1-4369-b93e-7ca56f6d9993",
        "colab": {
          "base_uri": "https://localhost:8080/",
          "height": 1000
        }
      },
      "source": [
        "df.calendar_updated.value_counts(normalize=True)"
      ],
      "execution_count": 0,
      "outputs": [
        {
          "output_type": "execute_result",
          "data": {
            "text/plain": [
              "today            0.070771\n",
              "2 months ago     0.064989\n",
              "2 weeks ago      0.061324\n",
              "a week ago       0.060347\n",
              "3 months ago     0.042308\n",
              "3 weeks ago      0.041779\n",
              "4 weeks ago      0.033675\n",
              "yesterday        0.033513\n",
              "4 months ago     0.032739\n",
              "3 days ago       0.027852\n",
              "5 weeks ago      0.025124\n",
              "6 weeks ago      0.022152\n",
              "2 days ago       0.020319\n",
              "4 days ago       0.020319\n",
              "5 months ago     0.019871\n",
              "6 months ago     0.014659\n",
              "5 days ago       0.014415\n",
              "16 months ago    0.014048\n",
              "7 months ago     0.014008\n",
              "8 months ago     0.013845\n",
              "23 months ago    0.013356\n",
              "27 months ago    0.011809\n",
              "9 months ago     0.011687\n",
              "10 months ago    0.011646\n",
              "20 months ago    0.011564\n",
              "7 weeks ago      0.011483\n",
              "11 months ago    0.010750\n",
              "28 months ago    0.010669\n",
              "24 months ago    0.010546\n",
              "21 months ago    0.010506\n",
              "18 months ago    0.009814\n",
              "22 months ago    0.009732\n",
              "17 months ago    0.009610\n",
              "15 months ago    0.009406\n",
              "26 months ago    0.009325\n",
              "19 months ago    0.009284\n",
              "1 week ago       0.009040\n",
              "12 months ago    0.008348\n",
              "14 months ago    0.008144\n",
              "25 months ago    0.007981\n",
              "40 months ago    0.007696\n",
              "47 months ago    0.007167\n",
              "29 months ago    0.007004\n",
              "13 months ago    0.006963\n",
              "30 months ago    0.006434\n",
              "45 months ago    0.006271\n",
              "32 months ago    0.006067\n",
              "33 months ago    0.005864\n",
              "46 months ago    0.005864\n",
              "44 months ago    0.005375\n",
              "34 months ago    0.005212\n",
              "41 months ago    0.005171\n",
              "31 months ago    0.004968\n",
              "52 months ago    0.004968\n",
              "39 months ago    0.004927\n",
              "35 months ago    0.004886\n",
              "48 months ago    0.004886\n",
              "38 months ago    0.004764\n",
              "43 months ago    0.004724\n",
              "51 months ago    0.004642\n",
              "36 months ago    0.004235\n",
              "49 months ago    0.003787\n",
              "50 months ago    0.003665\n",
              "42 months ago    0.003583\n",
              "37 months ago    0.003543\n",
              "6 days ago       0.003013\n",
              "53 months ago    0.002810\n",
              "54 months ago    0.002077\n",
              "never            0.001059\n",
              "58 months ago    0.000977\n",
              "55 months ago    0.000977\n",
              "57 months ago    0.000814\n",
              "59 months ago    0.000774\n",
              "60 months ago    0.000570\n",
              "56 months ago    0.000570\n",
              "65 months ago    0.000163\n",
              "71 months ago    0.000122\n",
              "61 months ago    0.000122\n",
              "63 months ago    0.000081\n",
              "67 months ago    0.000081\n",
              "62 months ago    0.000081\n",
              "64 months ago    0.000081\n",
              "69 months ago    0.000041\n",
              "92 months ago    0.000041\n",
              "66 months ago    0.000041\n",
              "70 months ago    0.000041\n",
              "85 months ago    0.000041\n",
              "Name: calendar_updated, dtype: float64"
            ]
          },
          "metadata": {
            "tags": []
          },
          "execution_count": 86
        }
      ]
    },
    {
      "cell_type": "code",
      "metadata": {
        "id": "QMBbZlIvoYec",
        "colab_type": "code",
        "colab": {}
      },
      "source": [
        "## too much variation, this feature will be dropped\n",
        "df.drop('calendar_updated', axis=1, inplace=True)"
      ],
      "execution_count": 0,
      "outputs": []
    },
    {
      "cell_type": "markdown",
      "metadata": {
        "id": "HLlI1lxjoiWk",
        "colab_type": "text"
      },
      "source": [
        "## availability"
      ]
    },
    {
      "cell_type": "code",
      "metadata": {
        "id": "Afn5SgQEohb9",
        "colab_type": "code",
        "colab": {}
      },
      "source": [
        "## more than 90 days is no longer short term rental so we will drop more than 90 days\n",
        "df.drop(['availability_30', 'availability_60', 'availability_365'], axis=1, inplace=True)"
      ],
      "execution_count": 0,
      "outputs": []
    },
    {
      "cell_type": "markdown",
      "metadata": {
        "id": "qUDM1IqbpMQH",
        "colab_type": "text"
      },
      "source": [
        "## first review last review"
      ]
    },
    {
      "cell_type": "code",
      "metadata": {
        "id": "O6JicIqNo8uE",
        "colab_type": "code",
        "colab": {}
      },
      "source": [
        "df.first_review = pd.to_datetime(df.first_review) # Converting to datetime\n",
        "\n",
        "# Calculating the number of days between the first review and the date the data was scraped\n",
        "df['time_since_first_review'] = (datetime(2019, 11, 12) - df.first_review).astype('timedelta64[D]')"
      ],
      "execution_count": 0,
      "outputs": []
    },
    {
      "cell_type": "code",
      "metadata": {
        "id": "vRClRohlphw_",
        "colab_type": "code",
        "colab": {}
      },
      "source": [
        "## function to categorize review duration\n",
        "def bin_column(col, bins, labels, na_label='unknown'):\n",
        "    \"\"\"\n",
        "    Takes in a column name, bin cut points and labels, replaces the original column with a\n",
        "    binned version, and replaces nulls (with 'unknown' if unspecified).\n",
        "    \"\"\"\n",
        "    df[col] = pd.cut(df[col], bins=bins, labels=labels, include_lowest=True)\n",
        "    df[col] = df[col].astype('str')\n",
        "    df[col].fillna(na_label, inplace=True)"
      ],
      "execution_count": 0,
      "outputs": []
    },
    {
      "cell_type": "code",
      "metadata": {
        "id": "xuNl23szpyi1",
        "colab_type": "code",
        "colab": {}
      },
      "source": [
        "## Binning time since first review\n",
        "bin_column('time_since_first_review',\n",
        "           bins=[0, 182, 365, 730, 1460, max(df.time_since_first_review)],\n",
        "           labels=['0-6 months',\n",
        "                   '6-12 months',\n",
        "                   '1-2 years',\n",
        "                   '2-3 years',\n",
        "                   '4+ years'],\n",
        "           na_label='no reviews')"
      ],
      "execution_count": 0,
      "outputs": []
    },
    {
      "cell_type": "code",
      "metadata": {
        "id": "_dWkTackp5Ej",
        "colab_type": "code",
        "colab": {}
      },
      "source": [
        "## repeat the process for last review\n",
        "df.last_review = pd.to_datetime(df.last_review) # Converting to datetime\n",
        "\n",
        "# Calculating the number of days between the most recent review and the date the data was scraped\n",
        "df['time_since_last_review'] = (datetime(2019, 11, 12) - df.last_review).astype('timedelta64[D]')"
      ],
      "execution_count": 0,
      "outputs": []
    },
    {
      "cell_type": "code",
      "metadata": {
        "id": "jrjYOihTqCjR",
        "colab_type": "code",
        "colab": {}
      },
      "source": [
        "# Binning time since last review\n",
        "bin_column('time_since_last_review',\n",
        "           bins=[0, 14, 60, 182, 365, max(df.time_since_last_review)],\n",
        "           labels=['0-2 weeks',\n",
        "                   '2-8 weeks',\n",
        "                   '2-6 months',\n",
        "                   '6-12 months',\n",
        "                   '1+ year'],\n",
        "           na_label='no reviews')"
      ],
      "execution_count": 0,
      "outputs": []
    },
    {
      "cell_type": "code",
      "metadata": {
        "id": "hc-im01YqG2r",
        "colab_type": "code",
        "colab": {}
      },
      "source": [
        "## Dropping last_review - first_review will be kept for EDA and dropped later\n",
        "df.drop('last_review', axis=1, inplace=True)"
      ],
      "execution_count": 0,
      "outputs": []
    },
    {
      "cell_type": "markdown",
      "metadata": {
        "id": "n7Z5K_4qwiv7",
        "colab_type": "text"
      },
      "source": [
        "## review ratings columns"
      ]
    },
    {
      "cell_type": "code",
      "metadata": {
        "id": "CKhif1g9uTTd",
        "colab_type": "code",
        "outputId": "7259695b-50ee-4405-a480-bc5d51e34449",
        "colab": {
          "base_uri": "https://localhost:8080/",
          "height": 585
        }
      },
      "source": [
        "## rooms with no review will be unknown\n",
        "## others will be binned\n",
        "## visualize distributions\n",
        "# Checking the distributions of the review ratings columns\n",
        "variables_to_plot = list(df.columns[df.columns.str.startswith(\"review_scores\") == True])\n",
        "fig = plt.figure(figsize=(12,8))\n",
        "for i, var_name in enumerate(variables_to_plot):\n",
        "    ax = fig.add_subplot(3,3,i+1)\n",
        "    df[var_name].hist(bins=10,ax=ax)\n",
        "    ax.set_title(var_name)\n",
        "fig.tight_layout()\n",
        "plt.show()"
      ],
      "execution_count": 0,
      "outputs": [
        {
          "output_type": "display_data",
          "data": {
            "image/png": "[encoded data removed]",
            "text/plain": [
              "<Figure size 864x576 with 7 Axes>"
            ]
          },
          "metadata": {
            "tags": []
          }
        }
      ]
    },
    {
      "cell_type": "code",
      "metadata": {
        "id": "QvYSC4vIwyhh",
        "colab_type": "code",
        "outputId": "19d71015-8c3b-4de5-b8c0-c645da66b6e6",
        "colab": {
          "base_uri": "https://localhost:8080/",
          "height": 35
        }
      },
      "source": [
        "## remove review_scores_rating because it is out of 100 not 10 like the others\n",
        "variables_to_plot.pop(0)"
      ],
      "execution_count": 0,
      "outputs": [
        {
          "output_type": "execute_result",
          "data": {
            "text/plain": [
              "'review_scores_rating'"
            ]
          },
          "metadata": {
            "tags": []
          },
          "execution_count": 96
        }
      ]
    },
    {
      "cell_type": "code",
      "metadata": {
        "id": "lg_TLe-Z0ZJl",
        "colab_type": "code",
        "colab": {}
      },
      "source": [
        "## Binning for all columns scored out of 10\n",
        "for col in variables_to_plot:\n",
        "    bin_column(col,\n",
        "               bins=[0, 8, 9, 10],\n",
        "               labels=['0-8/10', '9/10', '10/10'],\n",
        "               na_label='no reviews')"
      ],
      "execution_count": 0,
      "outputs": []
    },
    {
      "cell_type": "code",
      "metadata": {
        "id": "Z-p1Z0qb07Ed",
        "colab_type": "code",
        "colab": {}
      },
      "source": [
        "## Binning column scored out of 100\n",
        "## dividing by 100 to match other ratings categories\n",
        "bin_column('review_scores_rating',\n",
        "           bins=[0, 80, 95, 100],\n",
        "           labels=['0-79/100', '80-94/100', '95-100/100'],\n",
        "           na_label='no reviews')"
      ],
      "execution_count": 0,
      "outputs": []
    },
    {
      "cell_type": "markdown",
      "metadata": {
        "id": "rkY4eWF31Sr1",
        "colab_type": "text"
      },
      "source": [
        "## Cancellation policy"
      ]
    },
    {
      "cell_type": "code",
      "metadata": {
        "id": "nTaoxzSr1I8S",
        "colab_type": "code",
        "outputId": "3ee5a247-0734-4f01-e763-7bd91fe51529",
        "colab": {
          "base_uri": "https://localhost:8080/",
          "height": 143
        }
      },
      "source": [
        "## view value counts\n",
        "df.cancellation_policy.value_counts()"
      ],
      "execution_count": 0,
      "outputs": [
        {
          "output_type": "execute_result",
          "data": {
            "text/plain": [
              "flexible                       9621\n",
              "moderate                       7430\n",
              "strict_14_with_grace_period    7364\n",
              "super_strict_30                  81\n",
              "super_strict_60                  60\n",
              "strict                            2\n",
              "Name: cancellation_policy, dtype: int64"
            ]
          },
          "metadata": {
            "tags": []
          },
          "execution_count": 99
        }
      ]
    },
    {
      "cell_type": "code",
      "metadata": {
        "id": "Fn9YZ3q41ZoL",
        "colab_type": "code",
        "colab": {}
      },
      "source": [
        "## place stricts all into the same category\n",
        "# Replacing categories\n",
        "df.cancellation_policy.replace({\n",
        "    'super_strict_30': 'strict_14_with_grace_period',\n",
        "    'super_strict_60': 'strict_14_with_grace_period',\n",
        "    'strict': 'strict_14_with_grace_period',\n",
        "    }, inplace=True)"
      ],
      "execution_count": 0,
      "outputs": []
    },
    {
      "cell_type": "code",
      "metadata": {
        "id": "sFZzT9SG1mUP",
        "colab_type": "code",
        "outputId": "6c8e02ea-0f3b-4cea-86df-f2bcd3a45c18",
        "colab": {
          "base_uri": "https://localhost:8080/",
          "height": 89
        }
      },
      "source": [
        "## inspect changes\n",
        "df.cancellation_policy.value_counts(normalize=True)"
      ],
      "execution_count": 0,
      "outputs": [
        {
          "output_type": "execute_result",
          "data": {
            "text/plain": [
              "flexible                       0.391766\n",
              "strict_14_with_grace_period    0.305685\n",
              "moderate                       0.302549\n",
              "Name: cancellation_policy, dtype: float64"
            ]
          },
          "metadata": {
            "tags": []
          },
          "execution_count": 101
        }
      ]
    },
    {
      "cell_type": "markdown",
      "metadata": {
        "id": "NMjsFQMe12y1",
        "colab_type": "text"
      },
      "source": [
        "## number_of_reviews_ltm and reviews_per_month"
      ]
    },
    {
      "cell_type": "code",
      "metadata": {
        "id": "BdN0HIJx1qXa",
        "colab_type": "code",
        "colab": {}
      },
      "source": [
        "## These will be highly correlated with number_of_reviews and so will be dropped\n",
        "df.drop(['number_of_reviews_ltm', 'reviews_per_month'], axis=1, inplace=True)"
      ],
      "execution_count": 0,
      "outputs": []
    },
    {
      "cell_type": "code",
      "metadata": {
        "id": "EHvu788V2Bxg",
        "colab_type": "code",
        "outputId": "c3a1cce0-9252-4fba-c9f8-304f9798dc4f",
        "colab": {
          "base_uri": "https://localhost:8080/",
          "height": 340
        }
      },
      "source": [
        "## inspect dataframe\n",
        "df.head()"
      ],
      "execution_count": 0,
      "outputs": [
        {
          "output_type": "execute_result",
          "data": {
            "text/html": [
              "<div>\n",
              "<style scoped>\n",
              "    .dataframe tbody tr th:only-of-type {\n",
              "        vertical-align: middle;\n",
              "    }\n",
              "\n",
              "    .dataframe tbody tr th {\n",
              "        vertical-align: top;\n",
              "    }\n",
              "\n",
              "    .dataframe thead th {\n",
              "        text-align: right;\n",
              "    }\n",
              "</style>\n",
              "<table border=\"1\" class=\"dataframe\">\n",
              "  <thead>\n",
              "    <tr style=\"text-align: right;\">\n",
              "      <th></th>\n",
              "      <th>host_since</th>\n",
              "      <th>host_response_time</th>\n",
              "      <th>host_response_rate</th>\n",
              "      <th>host_is_superhost</th>\n",
              "      <th>host_listings_count</th>\n",
              "      <th>host_identity_verified</th>\n",
              "      <th>neighbourhood_cleansed</th>\n",
              "      <th>property_type</th>\n",
              "      <th>room_type</th>\n",
              "      <th>accommodates</th>\n",
              "      <th>bathrooms</th>\n",
              "      <th>bedrooms</th>\n",
              "      <th>beds</th>\n",
              "      <th>price</th>\n",
              "      <th>security_deposit</th>\n",
              "      <th>cleaning_fee</th>\n",
              "      <th>guests_included</th>\n",
              "      <th>extra_people</th>\n",
              "      <th>minimum_nights</th>\n",
              "      <th>maximum_nights</th>\n",
              "      <th>availability_90</th>\n",
              "      <th>number_of_reviews</th>\n",
              "      <th>first_review</th>\n",
              "      <th>review_scores_rating</th>\n",
              "      <th>review_scores_accuracy</th>\n",
              "      <th>review_scores_cleanliness</th>\n",
              "      <th>review_scores_checkin</th>\n",
              "      <th>review_scores_communication</th>\n",
              "      <th>review_scores_location</th>\n",
              "      <th>review_scores_value</th>\n",
              "      <th>instant_bookable</th>\n",
              "      <th>cancellation_policy</th>\n",
              "      <th>host_days_active</th>\n",
              "      <th>high_end_electronics</th>\n",
              "      <th>air_conditioning</th>\n",
              "      <th>standard_appliances</th>\n",
              "      <th>high_end_appliances</th>\n",
              "      <th>standard_bathroom_items</th>\n",
              "      <th>laundry_essentials</th>\n",
              "      <th>kitchen_essentials</th>\n",
              "      <th>kitchen_luxury</th>\n",
              "      <th>child_friendly</th>\n",
              "      <th>safety_and_security</th>\n",
              "      <th>outdoor_space</th>\n",
              "      <th>tv</th>\n",
              "      <th>pets_allowed</th>\n",
              "      <th>bedding_essentials</th>\n",
              "      <th>bedding_luxury</th>\n",
              "      <th>coffee_machine</th>\n",
              "      <th>internet</th>\n",
              "      <th>elevator</th>\n",
              "      <th>free_parking</th>\n",
              "      <th>host_greeting</th>\n",
              "      <th>long_term_stays</th>\n",
              "      <th>luggage_dropoff</th>\n",
              "      <th>other</th>\n",
              "      <th>paid_parking</th>\n",
              "      <th>privacy</th>\n",
              "      <th>smoking_allowed</th>\n",
              "      <th>time_since_first_review</th>\n",
              "      <th>time_since_last_review</th>\n",
              "    </tr>\n",
              "    <tr>\n",
              "      <th>id</th>\n",
              "      <th></th>\n",
              "      <th></th>\n",
              "      <th></th>\n",
              "      <th></th>\n",
              "      <th></th>\n",
              "      <th></th>\n",
              "      <th></th>\n",
              "      <th></th>\n",
              "      <th></th>\n",
              "      <th></th>\n",
              "      <th></th>\n",
              "      <th></th>\n",
              "      <th></th>\n",
              "      <th></th>\n",
              "      <th></th>\n",
              "      <th></th>\n",
              "      <th></th>\n",
              "      <th></th>\n",
              "      <th></th>\n",
              "      <th></th>\n",
              "      <th></th>\n",
              "      <th></th>\n",
              "      <th></th>\n",
              "      <th></th>\n",
              "      <th></th>\n",
              "      <th></th>\n",
              "      <th></th>\n",
              "      <th></th>\n",
              "      <th></th>\n",
              "      <th></th>\n",
              "      <th></th>\n",
              "      <th></th>\n",
              "      <th></th>\n",
              "      <th></th>\n",
              "      <th></th>\n",
              "      <th></th>\n",
              "      <th></th>\n",
              "      <th></th>\n",
              "      <th></th>\n",
              "      <th></th>\n",
              "      <th></th>\n",
              "      <th></th>\n",
              "      <th></th>\n",
              "      <th></th>\n",
              "      <th></th>\n",
              "      <th></th>\n",
              "      <th></th>\n",
              "      <th></th>\n",
              "      <th></th>\n",
              "      <th></th>\n",
              "      <th></th>\n",
              "      <th></th>\n",
              "      <th></th>\n",
              "      <th></th>\n",
              "      <th></th>\n",
              "      <th></th>\n",
              "      <th></th>\n",
              "      <th></th>\n",
              "      <th></th>\n",
              "      <th></th>\n",
              "      <th></th>\n",
              "    </tr>\n",
              "  </thead>\n",
              "  <tbody>\n",
              "    <tr>\n",
              "      <th>1944</th>\n",
              "      <td>2008-08-16</td>\n",
              "      <td>a few days or more</td>\n",
              "      <td>0-49%</td>\n",
              "      <td>0.0</td>\n",
              "      <td>0.0</td>\n",
              "      <td>1.0</td>\n",
              "      <td>Brunnenstr. Nord</td>\n",
              "      <td>Apartment</td>\n",
              "      <td>Private room</td>\n",
              "      <td>1</td>\n",
              "      <td>1.0</td>\n",
              "      <td>1.0</td>\n",
              "      <td>1.0</td>\n",
              "      <td>21</td>\n",
              "      <td>0</td>\n",
              "      <td>0</td>\n",
              "      <td>1</td>\n",
              "      <td>10</td>\n",
              "      <td>60</td>\n",
              "      <td>120</td>\n",
              "      <td>25</td>\n",
              "      <td>18</td>\n",
              "      <td>2013-09-07</td>\n",
              "      <td>80-94/100</td>\n",
              "      <td>9/10</td>\n",
              "      <td>0-8/10</td>\n",
              "      <td>9/10</td>\n",
              "      <td>9/10</td>\n",
              "      <td>9/10</td>\n",
              "      <td>0-8/10</td>\n",
              "      <td>0</td>\n",
              "      <td>moderate</td>\n",
              "      <td>4105.0</td>\n",
              "      <td>0.0</td>\n",
              "      <td>1.0</td>\n",
              "      <td>1.0</td>\n",
              "      <td>1.0</td>\n",
              "      <td>1.0</td>\n",
              "      <td>1.0</td>\n",
              "      <td>0.0</td>\n",
              "      <td>0.0</td>\n",
              "      <td>1.0</td>\n",
              "      <td>1.0</td>\n",
              "      <td>0.0</td>\n",
              "      <td>1.0</td>\n",
              "      <td>0.0</td>\n",
              "      <td>0.0</td>\n",
              "      <td>0.0</td>\n",
              "      <td>0.0</td>\n",
              "      <td>1.0</td>\n",
              "      <td>0.0</td>\n",
              "      <td>1.0</td>\n",
              "      <td>1.0</td>\n",
              "      <td>0.0</td>\n",
              "      <td>0.0</td>\n",
              "      <td>0.0</td>\n",
              "      <td>0.0</td>\n",
              "      <td>0.0</td>\n",
              "      <td>0.0</td>\n",
              "      <td>4+ years</td>\n",
              "      <td>1+ year</td>\n",
              "    </tr>\n",
              "    <tr>\n",
              "      <th>3176</th>\n",
              "      <td>2008-10-19</td>\n",
              "      <td>a few days or more</td>\n",
              "      <td>0-49%</td>\n",
              "      <td>0.0</td>\n",
              "      <td>1.0</td>\n",
              "      <td>1.0</td>\n",
              "      <td>Prenzlauer Berg Südwest</td>\n",
              "      <td>Apartment</td>\n",
              "      <td>Entire home/apt</td>\n",
              "      <td>4</td>\n",
              "      <td>1.0</td>\n",
              "      <td>1.0</td>\n",
              "      <td>2.0</td>\n",
              "      <td>90</td>\n",
              "      <td>300</td>\n",
              "      <td>100</td>\n",
              "      <td>2</td>\n",
              "      <td>20</td>\n",
              "      <td>62</td>\n",
              "      <td>1125</td>\n",
              "      <td>69</td>\n",
              "      <td>145</td>\n",
              "      <td>2009-06-20</td>\n",
              "      <td>80-94/100</td>\n",
              "      <td>9/10</td>\n",
              "      <td>9/10</td>\n",
              "      <td>9/10</td>\n",
              "      <td>9/10</td>\n",
              "      <td>10/10</td>\n",
              "      <td>9/10</td>\n",
              "      <td>0</td>\n",
              "      <td>strict_14_with_grace_period</td>\n",
              "      <td>4041.0</td>\n",
              "      <td>1.0</td>\n",
              "      <td>1.0</td>\n",
              "      <td>1.0</td>\n",
              "      <td>1.0</td>\n",
              "      <td>1.0</td>\n",
              "      <td>1.0</td>\n",
              "      <td>0.0</td>\n",
              "      <td>1.0</td>\n",
              "      <td>1.0</td>\n",
              "      <td>1.0</td>\n",
              "      <td>0.0</td>\n",
              "      <td>0.0</td>\n",
              "      <td>0.0</td>\n",
              "      <td>0.0</td>\n",
              "      <td>0.0</td>\n",
              "      <td>0.0</td>\n",
              "      <td>1.0</td>\n",
              "      <td>0.0</td>\n",
              "      <td>0.0</td>\n",
              "      <td>0.0</td>\n",
              "      <td>0.0</td>\n",
              "      <td>0.0</td>\n",
              "      <td>0.0</td>\n",
              "      <td>0.0</td>\n",
              "      <td>0.0</td>\n",
              "      <td>0.0</td>\n",
              "      <td>4+ years</td>\n",
              "      <td>2-6 months</td>\n",
              "    </tr>\n",
              "    <tr>\n",
              "      <th>3309</th>\n",
              "      <td>2008-11-07</td>\n",
              "      <td>unknown</td>\n",
              "      <td>unknown</td>\n",
              "      <td>0.0</td>\n",
              "      <td>1.0</td>\n",
              "      <td>0.0</td>\n",
              "      <td>Schöneberg-Nord</td>\n",
              "      <td>Apartment</td>\n",
              "      <td>Private room</td>\n",
              "      <td>1</td>\n",
              "      <td>1.0</td>\n",
              "      <td>1.0</td>\n",
              "      <td>1.0</td>\n",
              "      <td>28</td>\n",
              "      <td>250</td>\n",
              "      <td>30</td>\n",
              "      <td>1</td>\n",
              "      <td>18</td>\n",
              "      <td>7</td>\n",
              "      <td>35</td>\n",
              "      <td>42</td>\n",
              "      <td>27</td>\n",
              "      <td>2013-08-12</td>\n",
              "      <td>80-94/100</td>\n",
              "      <td>9/10</td>\n",
              "      <td>9/10</td>\n",
              "      <td>9/10</td>\n",
              "      <td>10/10</td>\n",
              "      <td>9/10</td>\n",
              "      <td>9/10</td>\n",
              "      <td>0</td>\n",
              "      <td>strict_14_with_grace_period</td>\n",
              "      <td>4022.0</td>\n",
              "      <td>1.0</td>\n",
              "      <td>1.0</td>\n",
              "      <td>1.0</td>\n",
              "      <td>1.0</td>\n",
              "      <td>1.0</td>\n",
              "      <td>1.0</td>\n",
              "      <td>0.0</td>\n",
              "      <td>0.0</td>\n",
              "      <td>0.0</td>\n",
              "      <td>1.0</td>\n",
              "      <td>0.0</td>\n",
              "      <td>0.0</td>\n",
              "      <td>1.0</td>\n",
              "      <td>1.0</td>\n",
              "      <td>1.0</td>\n",
              "      <td>0.0</td>\n",
              "      <td>1.0</td>\n",
              "      <td>0.0</td>\n",
              "      <td>1.0</td>\n",
              "      <td>1.0</td>\n",
              "      <td>1.0</td>\n",
              "      <td>1.0</td>\n",
              "      <td>1.0</td>\n",
              "      <td>0.0</td>\n",
              "      <td>0.0</td>\n",
              "      <td>0.0</td>\n",
              "      <td>4+ years</td>\n",
              "      <td>2-6 months</td>\n",
              "    </tr>\n",
              "    <tr>\n",
              "      <th>6883</th>\n",
              "      <td>2009-05-07</td>\n",
              "      <td>within an hour</td>\n",
              "      <td>100%</td>\n",
              "      <td>0.0</td>\n",
              "      <td>1.0</td>\n",
              "      <td>1.0</td>\n",
              "      <td>Frankfurter Allee Süd FK</td>\n",
              "      <td>Apartment</td>\n",
              "      <td>Entire home/apt</td>\n",
              "      <td>2</td>\n",
              "      <td>1.0</td>\n",
              "      <td>1.0</td>\n",
              "      <td>1.0</td>\n",
              "      <td>125</td>\n",
              "      <td>0</td>\n",
              "      <td>39</td>\n",
              "      <td>1</td>\n",
              "      <td>0</td>\n",
              "      <td>3</td>\n",
              "      <td>90</td>\n",
              "      <td>20</td>\n",
              "      <td>128</td>\n",
              "      <td>2010-02-15</td>\n",
              "      <td>95-100/100</td>\n",
              "      <td>10/10</td>\n",
              "      <td>10/10</td>\n",
              "      <td>10/10</td>\n",
              "      <td>10/10</td>\n",
              "      <td>10/10</td>\n",
              "      <td>10/10</td>\n",
              "      <td>0</td>\n",
              "      <td>moderate</td>\n",
              "      <td>3841.0</td>\n",
              "      <td>1.0</td>\n",
              "      <td>1.0</td>\n",
              "      <td>1.0</td>\n",
              "      <td>1.0</td>\n",
              "      <td>1.0</td>\n",
              "      <td>1.0</td>\n",
              "      <td>1.0</td>\n",
              "      <td>1.0</td>\n",
              "      <td>0.0</td>\n",
              "      <td>1.0</td>\n",
              "      <td>0.0</td>\n",
              "      <td>1.0</td>\n",
              "      <td>0.0</td>\n",
              "      <td>1.0</td>\n",
              "      <td>0.0</td>\n",
              "      <td>0.0</td>\n",
              "      <td>1.0</td>\n",
              "      <td>1.0</td>\n",
              "      <td>0.0</td>\n",
              "      <td>0.0</td>\n",
              "      <td>0.0</td>\n",
              "      <td>0.0</td>\n",
              "      <td>1.0</td>\n",
              "      <td>0.0</td>\n",
              "      <td>0.0</td>\n",
              "      <td>0.0</td>\n",
              "      <td>4+ years</td>\n",
              "      <td>2-8 weeks</td>\n",
              "    </tr>\n",
              "    <tr>\n",
              "      <th>7071</th>\n",
              "      <td>2009-05-16</td>\n",
              "      <td>within an hour</td>\n",
              "      <td>100%</td>\n",
              "      <td>1.0</td>\n",
              "      <td>2.0</td>\n",
              "      <td>1.0</td>\n",
              "      <td>Helmholtzplatz</td>\n",
              "      <td>Apartment</td>\n",
              "      <td>Private room</td>\n",
              "      <td>2</td>\n",
              "      <td>1.0</td>\n",
              "      <td>1.0</td>\n",
              "      <td>2.0</td>\n",
              "      <td>33</td>\n",
              "      <td>0</td>\n",
              "      <td>0</td>\n",
              "      <td>1</td>\n",
              "      <td>25</td>\n",
              "      <td>3</td>\n",
              "      <td>10</td>\n",
              "      <td>30</td>\n",
              "      <td>266</td>\n",
              "      <td>2009-08-18</td>\n",
              "      <td>95-100/100</td>\n",
              "      <td>10/10</td>\n",
              "      <td>10/10</td>\n",
              "      <td>10/10</td>\n",
              "      <td>10/10</td>\n",
              "      <td>10/10</td>\n",
              "      <td>10/10</td>\n",
              "      <td>0</td>\n",
              "      <td>moderate</td>\n",
              "      <td>3832.0</td>\n",
              "      <td>1.0</td>\n",
              "      <td>1.0</td>\n",
              "      <td>1.0</td>\n",
              "      <td>1.0</td>\n",
              "      <td>1.0</td>\n",
              "      <td>1.0</td>\n",
              "      <td>0.0</td>\n",
              "      <td>0.0</td>\n",
              "      <td>1.0</td>\n",
              "      <td>0.0</td>\n",
              "      <td>0.0</td>\n",
              "      <td>0.0</td>\n",
              "      <td>0.0</td>\n",
              "      <td>1.0</td>\n",
              "      <td>1.0</td>\n",
              "      <td>0.0</td>\n",
              "      <td>1.0</td>\n",
              "      <td>0.0</td>\n",
              "      <td>0.0</td>\n",
              "      <td>1.0</td>\n",
              "      <td>0.0</td>\n",
              "      <td>0.0</td>\n",
              "      <td>1.0</td>\n",
              "      <td>0.0</td>\n",
              "      <td>0.0</td>\n",
              "      <td>0.0</td>\n",
              "      <td>4+ years</td>\n",
              "      <td>0-2 weeks</td>\n",
              "    </tr>\n",
              "  </tbody>\n",
              "</table>\n",
              "</div>"
            ],
            "text/plain": [
              "     host_since  host_response_time host_response_rate  host_is_superhost  \\\n",
              "id                                                                          \n",
              "1944 2008-08-16  a few days or more              0-49%                0.0   \n",
              "3176 2008-10-19  a few days or more              0-49%                0.0   \n",
              "3309 2008-11-07             unknown            unknown                0.0   \n",
              "6883 2009-05-07      within an hour               100%                0.0   \n",
              "7071 2009-05-16      within an hour               100%                1.0   \n",
              "\n",
              "      host_listings_count  host_identity_verified    neighbourhood_cleansed  \\\n",
              "id                                                                            \n",
              "1944                  0.0                     1.0          Brunnenstr. Nord   \n",
              "3176                  1.0                     1.0   Prenzlauer Berg Südwest   \n",
              "3309                  1.0                     0.0           Schöneberg-Nord   \n",
              "6883                  1.0                     1.0  Frankfurter Allee Süd FK   \n",
              "7071                  2.0                     1.0            Helmholtzplatz   \n",
              "\n",
              "     property_type        room_type  accommodates  bathrooms  bedrooms  beds  \\\n",
              "id                                                                             \n",
              "1944     Apartment     Private room             1        1.0       1.0   1.0   \n",
              "3176     Apartment  Entire home/apt             4        1.0       1.0   2.0   \n",
              "3309     Apartment     Private room             1        1.0       1.0   1.0   \n",
              "6883     Apartment  Entire home/apt             2        1.0       1.0   1.0   \n",
              "7071     Apartment     Private room             2        1.0       1.0   2.0   \n",
              "\n",
              "      price  security_deposit  cleaning_fee  guests_included  extra_people  \\\n",
              "id                                                                           \n",
              "1944     21                 0             0                1            10   \n",
              "3176     90               300           100                2            20   \n",
              "3309     28               250            30                1            18   \n",
              "6883    125                 0            39                1             0   \n",
              "7071     33                 0             0                1            25   \n",
              "\n",
              "      minimum_nights  maximum_nights  availability_90  number_of_reviews  \\\n",
              "id                                                                         \n",
              "1944              60             120               25                 18   \n",
              "3176              62            1125               69                145   \n",
              "3309               7              35               42                 27   \n",
              "6883               3              90               20                128   \n",
              "7071               3              10               30                266   \n",
              "\n",
              "     first_review review_scores_rating review_scores_accuracy  \\\n",
              "id                                                              \n",
              "1944   2013-09-07            80-94/100                   9/10   \n",
              "3176   2009-06-20            80-94/100                   9/10   \n",
              "3309   2013-08-12            80-94/100                   9/10   \n",
              "6883   2010-02-15           95-100/100                  10/10   \n",
              "7071   2009-08-18           95-100/100                  10/10   \n",
              "\n",
              "     review_scores_cleanliness review_scores_checkin  \\\n",
              "id                                                     \n",
              "1944                    0-8/10                  9/10   \n",
              "3176                      9/10                  9/10   \n",
              "3309                      9/10                  9/10   \n",
              "6883                     10/10                 10/10   \n",
              "7071                     10/10                 10/10   \n",
              "\n",
              "     review_scores_communication review_scores_location review_scores_value  \\\n",
              "id                                                                            \n",
              "1944                        9/10                   9/10              0-8/10   \n",
              "3176                        9/10                  10/10                9/10   \n",
              "3309                       10/10                   9/10                9/10   \n",
              "6883                       10/10                  10/10               10/10   \n",
              "7071                       10/10                  10/10               10/10   \n",
              "\n",
              "      instant_bookable          cancellation_policy  host_days_active  \\\n",
              "id                                                                      \n",
              "1944                 0                     moderate            4105.0   \n",
              "3176                 0  strict_14_with_grace_period            4041.0   \n",
              "3309                 0  strict_14_with_grace_period            4022.0   \n",
              "6883                 0                     moderate            3841.0   \n",
              "7071                 0                     moderate            3832.0   \n",
              "\n",
              "      high_end_electronics  air_conditioning  standard_appliances  \\\n",
              "id                                                                  \n",
              "1944                   0.0               1.0                  1.0   \n",
              "3176                   1.0               1.0                  1.0   \n",
              "3309                   1.0               1.0                  1.0   \n",
              "6883                   1.0               1.0                  1.0   \n",
              "7071                   1.0               1.0                  1.0   \n",
              "\n",
              "      high_end_appliances  standard_bathroom_items  laundry_essentials  \\\n",
              "id                                                                       \n",
              "1944                  1.0                      1.0                 1.0   \n",
              "3176                  1.0                      1.0                 1.0   \n",
              "3309                  1.0                      1.0                 1.0   \n",
              "6883                  1.0                      1.0                 1.0   \n",
              "7071                  1.0                      1.0                 1.0   \n",
              "\n",
              "      kitchen_essentials  kitchen_luxury  child_friendly  safety_and_security  \\\n",
              "id                                                                              \n",
              "1944                 0.0             0.0             1.0                  1.0   \n",
              "3176                 0.0             1.0             1.0                  1.0   \n",
              "3309                 0.0             0.0             0.0                  1.0   \n",
              "6883                 1.0             1.0             0.0                  1.0   \n",
              "7071                 0.0             0.0             1.0                  0.0   \n",
              "\n",
              "      outdoor_space   tv  pets_allowed  bedding_essentials  bedding_luxury  \\\n",
              "id                                                                           \n",
              "1944            0.0  1.0           0.0                 0.0             0.0   \n",
              "3176            0.0  0.0           0.0                 0.0             0.0   \n",
              "3309            0.0  0.0           1.0                 1.0             1.0   \n",
              "6883            0.0  1.0           0.0                 1.0             0.0   \n",
              "7071            0.0  0.0           0.0                 1.0             1.0   \n",
              "\n",
              "      coffee_machine  internet  elevator  free_parking  host_greeting  \\\n",
              "id                                                                      \n",
              "1944             0.0       1.0       0.0           1.0            1.0   \n",
              "3176             0.0       1.0       0.0           0.0            0.0   \n",
              "3309             0.0       1.0       0.0           1.0            1.0   \n",
              "6883             0.0       1.0       1.0           0.0            0.0   \n",
              "7071             0.0       1.0       0.0           0.0            1.0   \n",
              "\n",
              "      long_term_stays  luggage_dropoff  other  paid_parking  privacy  \\\n",
              "id                                                                     \n",
              "1944              0.0              0.0    0.0           0.0      0.0   \n",
              "3176              0.0              0.0    0.0           0.0      0.0   \n",
              "3309              1.0              1.0    1.0           0.0      0.0   \n",
              "6883              0.0              0.0    1.0           0.0      0.0   \n",
              "7071              0.0              0.0    1.0           0.0      0.0   \n",
              "\n",
              "      smoking_allowed time_since_first_review time_since_last_review  \n",
              "id                                                                    \n",
              "1944              0.0                4+ years                1+ year  \n",
              "3176              0.0                4+ years             2-6 months  \n",
              "3309              0.0                4+ years             2-6 months  \n",
              "6883              0.0                4+ years              2-8 weeks  \n",
              "7071              0.0                4+ years              0-2 weeks  "
            ]
          },
          "metadata": {
            "tags": []
          },
          "execution_count": 103
        }
      ]
    },
    {
      "cell_type": "code",
      "metadata": {
        "id": "GVkgXR2h2C7Y",
        "colab_type": "code",
        "outputId": "730d8e67-fed0-4a68-c97b-f76150ce634d",
        "colab": {
          "base_uri": "https://localhost:8080/",
          "height": 35
        }
      },
      "source": [
        "df.shape"
      ],
      "execution_count": 0,
      "outputs": [
        {
          "output_type": "execute_result",
          "data": {
            "text/plain": [
              "(24558, 61)"
            ]
          },
          "metadata": {
            "tags": []
          },
          "execution_count": 104
        }
      ]
    },
    {
      "cell_type": "code",
      "metadata": {
        "id": "CiHUhNGS2VwW",
        "colab_type": "code",
        "colab": {}
      },
      "source": [
        "## Dropping columns that are not useful to price analysis\n",
        "df.drop(['host_since', 'first_review'], axis=1, inplace=True)"
      ],
      "execution_count": 0,
      "outputs": []
    },
    {
      "cell_type": "markdown",
      "metadata": {
        "id": "JnX1Ov9U22Jj",
        "colab_type": "text"
      },
      "source": [
        "# Numerical features"
      ]
    },
    {
      "cell_type": "code",
      "metadata": {
        "id": "dsgWK5P02yNR",
        "colab_type": "code",
        "outputId": "929f23f4-df63-4790-9521-90960c8ade39",
        "colab": {
          "base_uri": "https://localhost:8080/",
          "height": 317
        }
      },
      "source": [
        "df.describe()"
      ],
      "execution_count": 0,
      "outputs": [
        {
          "output_type": "execute_result",
          "data": {
            "text/html": [
              "<div>\n",
              "<style scoped>\n",
              "    .dataframe tbody tr th:only-of-type {\n",
              "        vertical-align: middle;\n",
              "    }\n",
              "\n",
              "    .dataframe tbody tr th {\n",
              "        vertical-align: top;\n",
              "    }\n",
              "\n",
              "    .dataframe thead th {\n",
              "        text-align: right;\n",
              "    }\n",
              "</style>\n",
              "<table border=\"1\" class=\"dataframe\">\n",
              "  <thead>\n",
              "    <tr style=\"text-align: right;\">\n",
              "      <th></th>\n",
              "      <th>host_is_superhost</th>\n",
              "      <th>host_listings_count</th>\n",
              "      <th>host_identity_verified</th>\n",
              "      <th>accommodates</th>\n",
              "      <th>bathrooms</th>\n",
              "      <th>bedrooms</th>\n",
              "      <th>beds</th>\n",
              "      <th>price</th>\n",
              "      <th>security_deposit</th>\n",
              "      <th>cleaning_fee</th>\n",
              "      <th>guests_included</th>\n",
              "      <th>extra_people</th>\n",
              "      <th>minimum_nights</th>\n",
              "      <th>maximum_nights</th>\n",
              "      <th>availability_90</th>\n",
              "      <th>number_of_reviews</th>\n",
              "      <th>instant_bookable</th>\n",
              "      <th>host_days_active</th>\n",
              "      <th>high_end_electronics</th>\n",
              "      <th>air_conditioning</th>\n",
              "      <th>standard_appliances</th>\n",
              "      <th>high_end_appliances</th>\n",
              "      <th>standard_bathroom_items</th>\n",
              "      <th>laundry_essentials</th>\n",
              "      <th>kitchen_essentials</th>\n",
              "      <th>kitchen_luxury</th>\n",
              "      <th>child_friendly</th>\n",
              "      <th>safety_and_security</th>\n",
              "      <th>outdoor_space</th>\n",
              "      <th>tv</th>\n",
              "      <th>pets_allowed</th>\n",
              "      <th>bedding_essentials</th>\n",
              "      <th>bedding_luxury</th>\n",
              "      <th>coffee_machine</th>\n",
              "      <th>internet</th>\n",
              "      <th>elevator</th>\n",
              "      <th>free_parking</th>\n",
              "      <th>host_greeting</th>\n",
              "      <th>long_term_stays</th>\n",
              "      <th>luggage_dropoff</th>\n",
              "      <th>other</th>\n",
              "      <th>paid_parking</th>\n",
              "      <th>privacy</th>\n",
              "      <th>smoking_allowed</th>\n",
              "    </tr>\n",
              "  </thead>\n",
              "  <tbody>\n",
              "    <tr>\n",
              "      <th>count</th>\n",
              "      <td>24558.000000</td>\n",
              "      <td>24558.000000</td>\n",
              "      <td>24558.000000</td>\n",
              "      <td>24558.000000</td>\n",
              "      <td>24558.000000</td>\n",
              "      <td>24558.000000</td>\n",
              "      <td>24558.000000</td>\n",
              "      <td>24558.000000</td>\n",
              "      <td>24558.000000</td>\n",
              "      <td>24558.000000</td>\n",
              "      <td>24558.000000</td>\n",
              "      <td>24558.000000</td>\n",
              "      <td>24558.000000</td>\n",
              "      <td>24558.000000</td>\n",
              "      <td>24558.000000</td>\n",
              "      <td>24558.000000</td>\n",
              "      <td>24558.000000</td>\n",
              "      <td>24558.000000</td>\n",
              "      <td>24558.000000</td>\n",
              "      <td>24558.000000</td>\n",
              "      <td>24558.000000</td>\n",
              "      <td>24558.0</td>\n",
              "      <td>24558.000000</td>\n",
              "      <td>24558.000000</td>\n",
              "      <td>24558.000000</td>\n",
              "      <td>24558.000000</td>\n",
              "      <td>24558.000000</td>\n",
              "      <td>24558.000000</td>\n",
              "      <td>24558.000000</td>\n",
              "      <td>24558.000000</td>\n",
              "      <td>24558.000000</td>\n",
              "      <td>24558.000000</td>\n",
              "      <td>24558.000000</td>\n",
              "      <td>24558.000000</td>\n",
              "      <td>24558.000000</td>\n",
              "      <td>24558.000000</td>\n",
              "      <td>24558.000000</td>\n",
              "      <td>24558.000000</td>\n",
              "      <td>24558.000000</td>\n",
              "      <td>24558.000000</td>\n",
              "      <td>24558.000000</td>\n",
              "      <td>24558.000000</td>\n",
              "      <td>24558.000000</td>\n",
              "      <td>24558.000000</td>\n",
              "    </tr>\n",
              "    <tr>\n",
              "      <th>mean</th>\n",
              "      <td>0.163083</td>\n",
              "      <td>3.289763</td>\n",
              "      <td>0.349662</td>\n",
              "      <td>2.679331</td>\n",
              "      <td>1.100884</td>\n",
              "      <td>1.160966</td>\n",
              "      <td>1.617681</td>\n",
              "      <td>72.399340</td>\n",
              "      <td>120.978378</td>\n",
              "      <td>19.543530</td>\n",
              "      <td>1.363995</td>\n",
              "      <td>8.437251</td>\n",
              "      <td>7.267163</td>\n",
              "      <td>598.838790</td>\n",
              "      <td>20.137470</td>\n",
              "      <td>21.319366</td>\n",
              "      <td>0.350069</td>\n",
              "      <td>1584.516084</td>\n",
              "      <td>0.659459</td>\n",
              "      <td>0.946046</td>\n",
              "      <td>0.923284</td>\n",
              "      <td>1.0</td>\n",
              "      <td>0.833985</td>\n",
              "      <td>0.943603</td>\n",
              "      <td>0.341477</td>\n",
              "      <td>0.937454</td>\n",
              "      <td>0.322705</td>\n",
              "      <td>0.694275</td>\n",
              "      <td>0.172327</td>\n",
              "      <td>0.458181</td>\n",
              "      <td>0.163002</td>\n",
              "      <td>0.290374</td>\n",
              "      <td>0.159133</td>\n",
              "      <td>0.238619</td>\n",
              "      <td>0.961194</td>\n",
              "      <td>0.222534</td>\n",
              "      <td>0.308168</td>\n",
              "      <td>0.249002</td>\n",
              "      <td>0.151356</td>\n",
              "      <td>0.142357</td>\n",
              "      <td>0.200505</td>\n",
              "      <td>0.109252</td>\n",
              "      <td>0.232999</td>\n",
              "      <td>0.187352</td>\n",
              "    </tr>\n",
              "    <tr>\n",
              "      <th>std</th>\n",
              "      <td>0.369449</td>\n",
              "      <td>29.712178</td>\n",
              "      <td>0.476873</td>\n",
              "      <td>1.567290</td>\n",
              "      <td>0.346966</td>\n",
              "      <td>0.670397</td>\n",
              "      <td>1.213319</td>\n",
              "      <td>213.404113</td>\n",
              "      <td>321.532061</td>\n",
              "      <td>25.679877</td>\n",
              "      <td>1.545330</td>\n",
              "      <td>11.663609</td>\n",
              "      <td>28.373341</td>\n",
              "      <td>633.288639</td>\n",
              "      <td>28.733954</td>\n",
              "      <td>44.514702</td>\n",
              "      <td>0.477001</td>\n",
              "      <td>789.339147</td>\n",
              "      <td>0.473901</td>\n",
              "      <td>0.225931</td>\n",
              "      <td>0.266146</td>\n",
              "      <td>0.0</td>\n",
              "      <td>0.372102</td>\n",
              "      <td>0.230692</td>\n",
              "      <td>0.474215</td>\n",
              "      <td>0.242149</td>\n",
              "      <td>0.467521</td>\n",
              "      <td>0.460723</td>\n",
              "      <td>0.377672</td>\n",
              "      <td>0.498258</td>\n",
              "      <td>0.369375</td>\n",
              "      <td>0.453944</td>\n",
              "      <td>0.365808</td>\n",
              "      <td>0.426248</td>\n",
              "      <td>0.193136</td>\n",
              "      <td>0.415957</td>\n",
              "      <td>0.461746</td>\n",
              "      <td>0.432444</td>\n",
              "      <td>0.358403</td>\n",
              "      <td>0.349423</td>\n",
              "      <td>0.400386</td>\n",
              "      <td>0.311961</td>\n",
              "      <td>0.422750</td>\n",
              "      <td>0.390202</td>\n",
              "    </tr>\n",
              "    <tr>\n",
              "      <th>min</th>\n",
              "      <td>0.000000</td>\n",
              "      <td>0.000000</td>\n",
              "      <td>0.000000</td>\n",
              "      <td>1.000000</td>\n",
              "      <td>0.000000</td>\n",
              "      <td>0.000000</td>\n",
              "      <td>0.000000</td>\n",
              "      <td>0.000000</td>\n",
              "      <td>0.000000</td>\n",
              "      <td>0.000000</td>\n",
              "      <td>1.000000</td>\n",
              "      <td>0.000000</td>\n",
              "      <td>1.000000</td>\n",
              "      <td>1.000000</td>\n",
              "      <td>0.000000</td>\n",
              "      <td>0.000000</td>\n",
              "      <td>0.000000</td>\n",
              "      <td>0.000000</td>\n",
              "      <td>0.000000</td>\n",
              "      <td>0.000000</td>\n",
              "      <td>0.000000</td>\n",
              "      <td>1.0</td>\n",
              "      <td>0.000000</td>\n",
              "      <td>0.000000</td>\n",
              "      <td>0.000000</td>\n",
              "      <td>0.000000</td>\n",
              "      <td>0.000000</td>\n",
              "      <td>0.000000</td>\n",
              "      <td>0.000000</td>\n",
              "      <td>0.000000</td>\n",
              "      <td>0.000000</td>\n",
              "      <td>0.000000</td>\n",
              "      <td>0.000000</td>\n",
              "      <td>0.000000</td>\n",
              "      <td>0.000000</td>\n",
              "      <td>0.000000</td>\n",
              "      <td>0.000000</td>\n",
              "      <td>0.000000</td>\n",
              "      <td>0.000000</td>\n",
              "      <td>0.000000</td>\n",
              "      <td>0.000000</td>\n",
              "      <td>0.000000</td>\n",
              "      <td>0.000000</td>\n",
              "      <td>0.000000</td>\n",
              "    </tr>\n",
              "    <tr>\n",
              "      <th>25%</th>\n",
              "      <td>0.000000</td>\n",
              "      <td>1.000000</td>\n",
              "      <td>0.000000</td>\n",
              "      <td>2.000000</td>\n",
              "      <td>1.000000</td>\n",
              "      <td>1.000000</td>\n",
              "      <td>1.000000</td>\n",
              "      <td>34.000000</td>\n",
              "      <td>0.000000</td>\n",
              "      <td>0.000000</td>\n",
              "      <td>1.000000</td>\n",
              "      <td>0.000000</td>\n",
              "      <td>2.000000</td>\n",
              "      <td>20.000000</td>\n",
              "      <td>0.000000</td>\n",
              "      <td>1.000000</td>\n",
              "      <td>0.000000</td>\n",
              "      <td>1032.000000</td>\n",
              "      <td>0.000000</td>\n",
              "      <td>1.000000</td>\n",
              "      <td>1.000000</td>\n",
              "      <td>1.0</td>\n",
              "      <td>1.000000</td>\n",
              "      <td>1.000000</td>\n",
              "      <td>0.000000</td>\n",
              "      <td>1.000000</td>\n",
              "      <td>0.000000</td>\n",
              "      <td>0.000000</td>\n",
              "      <td>0.000000</td>\n",
              "      <td>0.000000</td>\n",
              "      <td>0.000000</td>\n",
              "      <td>0.000000</td>\n",
              "      <td>0.000000</td>\n",
              "      <td>0.000000</td>\n",
              "      <td>1.000000</td>\n",
              "      <td>0.000000</td>\n",
              "      <td>0.000000</td>\n",
              "      <td>0.000000</td>\n",
              "      <td>0.000000</td>\n",
              "      <td>0.000000</td>\n",
              "      <td>0.000000</td>\n",
              "      <td>0.000000</td>\n",
              "      <td>0.000000</td>\n",
              "      <td>0.000000</td>\n",
              "    </tr>\n",
              "    <tr>\n",
              "      <th>50%</th>\n",
              "      <td>0.000000</td>\n",
              "      <td>1.000000</td>\n",
              "      <td>0.000000</td>\n",
              "      <td>2.000000</td>\n",
              "      <td>1.000000</td>\n",
              "      <td>1.000000</td>\n",
              "      <td>1.000000</td>\n",
              "      <td>50.000000</td>\n",
              "      <td>0.000000</td>\n",
              "      <td>12.000000</td>\n",
              "      <td>1.000000</td>\n",
              "      <td>5.000000</td>\n",
              "      <td>3.000000</td>\n",
              "      <td>1086.000000</td>\n",
              "      <td>0.000000</td>\n",
              "      <td>5.000000</td>\n",
              "      <td>0.000000</td>\n",
              "      <td>1580.000000</td>\n",
              "      <td>1.000000</td>\n",
              "      <td>1.000000</td>\n",
              "      <td>1.000000</td>\n",
              "      <td>1.0</td>\n",
              "      <td>1.000000</td>\n",
              "      <td>1.000000</td>\n",
              "      <td>0.000000</td>\n",
              "      <td>1.000000</td>\n",
              "      <td>0.000000</td>\n",
              "      <td>1.000000</td>\n",
              "      <td>0.000000</td>\n",
              "      <td>0.000000</td>\n",
              "      <td>0.000000</td>\n",
              "      <td>0.000000</td>\n",
              "      <td>0.000000</td>\n",
              "      <td>0.000000</td>\n",
              "      <td>1.000000</td>\n",
              "      <td>0.000000</td>\n",
              "      <td>0.000000</td>\n",
              "      <td>0.000000</td>\n",
              "      <td>0.000000</td>\n",
              "      <td>0.000000</td>\n",
              "      <td>0.000000</td>\n",
              "      <td>0.000000</td>\n",
              "      <td>0.000000</td>\n",
              "      <td>0.000000</td>\n",
              "    </tr>\n",
              "    <tr>\n",
              "      <th>75%</th>\n",
              "      <td>0.000000</td>\n",
              "      <td>2.000000</td>\n",
              "      <td>1.000000</td>\n",
              "      <td>3.000000</td>\n",
              "      <td>1.000000</td>\n",
              "      <td>1.000000</td>\n",
              "      <td>2.000000</td>\n",
              "      <td>78.000000</td>\n",
              "      <td>150.000000</td>\n",
              "      <td>30.000000</td>\n",
              "      <td>1.000000</td>\n",
              "      <td>15.000000</td>\n",
              "      <td>4.000000</td>\n",
              "      <td>1125.000000</td>\n",
              "      <td>40.000000</td>\n",
              "      <td>19.000000</td>\n",
              "      <td>1.000000</td>\n",
              "      <td>2145.000000</td>\n",
              "      <td>1.000000</td>\n",
              "      <td>1.000000</td>\n",
              "      <td>1.000000</td>\n",
              "      <td>1.0</td>\n",
              "      <td>1.000000</td>\n",
              "      <td>1.000000</td>\n",
              "      <td>1.000000</td>\n",
              "      <td>1.000000</td>\n",
              "      <td>1.000000</td>\n",
              "      <td>1.000000</td>\n",
              "      <td>0.000000</td>\n",
              "      <td>1.000000</td>\n",
              "      <td>0.000000</td>\n",
              "      <td>1.000000</td>\n",
              "      <td>0.000000</td>\n",
              "      <td>0.000000</td>\n",
              "      <td>1.000000</td>\n",
              "      <td>0.000000</td>\n",
              "      <td>1.000000</td>\n",
              "      <td>0.000000</td>\n",
              "      <td>0.000000</td>\n",
              "      <td>0.000000</td>\n",
              "      <td>0.000000</td>\n",
              "      <td>0.000000</td>\n",
              "      <td>0.000000</td>\n",
              "      <td>0.000000</td>\n",
              "    </tr>\n",
              "    <tr>\n",
              "      <th>max</th>\n",
              "      <td>1.000000</td>\n",
              "      <td>1492.000000</td>\n",
              "      <td>1.000000</td>\n",
              "      <td>16.000000</td>\n",
              "      <td>8.500000</td>\n",
              "      <td>12.000000</td>\n",
              "      <td>22.000000</td>\n",
              "      <td>8983.000000</td>\n",
              "      <td>4556.000000</td>\n",
              "      <td>500.000000</td>\n",
              "      <td>200.000000</td>\n",
              "      <td>250.000000</td>\n",
              "      <td>1124.000000</td>\n",
              "      <td>50000.000000</td>\n",
              "      <td>90.000000</td>\n",
              "      <td>596.000000</td>\n",
              "      <td>1.000000</td>\n",
              "      <td>4106.000000</td>\n",
              "      <td>1.000000</td>\n",
              "      <td>1.000000</td>\n",
              "      <td>1.000000</td>\n",
              "      <td>1.0</td>\n",
              "      <td>1.000000</td>\n",
              "      <td>1.000000</td>\n",
              "      <td>1.000000</td>\n",
              "      <td>1.000000</td>\n",
              "      <td>1.000000</td>\n",
              "      <td>1.000000</td>\n",
              "      <td>1.000000</td>\n",
              "      <td>1.000000</td>\n",
              "      <td>1.000000</td>\n",
              "      <td>1.000000</td>\n",
              "      <td>1.000000</td>\n",
              "      <td>1.000000</td>\n",
              "      <td>1.000000</td>\n",
              "      <td>1.000000</td>\n",
              "      <td>1.000000</td>\n",
              "      <td>1.000000</td>\n",
              "      <td>1.000000</td>\n",
              "      <td>1.000000</td>\n",
              "      <td>1.000000</td>\n",
              "      <td>1.000000</td>\n",
              "      <td>1.000000</td>\n",
              "      <td>1.000000</td>\n",
              "    </tr>\n",
              "  </tbody>\n",
              "</table>\n",
              "</div>"
            ],
            "text/plain": [
              "       host_is_superhost  host_listings_count  host_identity_verified  \\\n",
              "count       24558.000000         24558.000000            24558.000000   \n",
              "mean            0.163083             3.289763                0.349662   \n",
              "std             0.369449            29.712178                0.476873   \n",
              "min             0.000000             0.000000                0.000000   \n",
              "25%             0.000000             1.000000                0.000000   \n",
              "50%             0.000000             1.000000                0.000000   \n",
              "75%             0.000000             2.000000                1.000000   \n",
              "max             1.000000          1492.000000                1.000000   \n",
              "\n",
              "       accommodates     bathrooms      bedrooms          beds         price  \\\n",
              "count  24558.000000  24558.000000  24558.000000  24558.000000  24558.000000   \n",
              "mean       2.679331      1.100884      1.160966      1.617681     72.399340   \n",
              "std        1.567290      0.346966      0.670397      1.213319    213.404113   \n",
              "min        1.000000      0.000000      0.000000      0.000000      0.000000   \n",
              "25%        2.000000      1.000000      1.000000      1.000000     34.000000   \n",
              "50%        2.000000      1.000000      1.000000      1.000000     50.000000   \n",
              "75%        3.000000      1.000000      1.000000      2.000000     78.000000   \n",
              "max       16.000000      8.500000     12.000000     22.000000   8983.000000   \n",
              "\n",
              "       security_deposit  cleaning_fee  guests_included  extra_people  \\\n",
              "count      24558.000000  24558.000000     24558.000000  24558.000000   \n",
              "mean         120.978378     19.543530         1.363995      8.437251   \n",
              "std          321.532061     25.679877         1.545330     11.663609   \n",
              "min            0.000000      0.000000         1.000000      0.000000   \n",
              "25%            0.000000      0.000000         1.000000      0.000000   \n",
              "50%            0.000000     12.000000         1.000000      5.000000   \n",
              "75%          150.000000     30.000000         1.000000     15.000000   \n",
              "max         4556.000000    500.000000       200.000000    250.000000   \n",
              "\n",
              "       minimum_nights  maximum_nights  availability_90  number_of_reviews  \\\n",
              "count    24558.000000    24558.000000     24558.000000       24558.000000   \n",
              "mean         7.267163      598.838790        20.137470          21.319366   \n",
              "std         28.373341      633.288639        28.733954          44.514702   \n",
              "min          1.000000        1.000000         0.000000           0.000000   \n",
              "25%          2.000000       20.000000         0.000000           1.000000   \n",
              "50%          3.000000     1086.000000         0.000000           5.000000   \n",
              "75%          4.000000     1125.000000        40.000000          19.000000   \n",
              "max       1124.000000    50000.000000        90.000000         596.000000   \n",
              "\n",
              "       instant_bookable  host_days_active  high_end_electronics  \\\n",
              "count      24558.000000      24558.000000          24558.000000   \n",
              "mean           0.350069       1584.516084              0.659459   \n",
              "std            0.477001        789.339147              0.473901   \n",
              "min            0.000000          0.000000              0.000000   \n",
              "25%            0.000000       1032.000000              0.000000   \n",
              "50%            0.000000       1580.000000              1.000000   \n",
              "75%            1.000000       2145.000000              1.000000   \n",
              "max            1.000000       4106.000000              1.000000   \n",
              "\n",
              "       air_conditioning  standard_appliances  high_end_appliances  \\\n",
              "count      24558.000000         24558.000000              24558.0   \n",
              "mean           0.946046             0.923284                  1.0   \n",
              "std            0.225931             0.266146                  0.0   \n",
              "min            0.000000             0.000000                  1.0   \n",
              "25%            1.000000             1.000000                  1.0   \n",
              "50%            1.000000             1.000000                  1.0   \n",
              "75%            1.000000             1.000000                  1.0   \n",
              "max            1.000000             1.000000                  1.0   \n",
              "\n",
              "       standard_bathroom_items  laundry_essentials  kitchen_essentials  \\\n",
              "count             24558.000000        24558.000000        24558.000000   \n",
              "mean                  0.833985            0.943603            0.341477   \n",
              "std                   0.372102            0.230692            0.474215   \n",
              "min                   0.000000            0.000000            0.000000   \n",
              "25%                   1.000000            1.000000            0.000000   \n",
              "50%                   1.000000            1.000000            0.000000   \n",
              "75%                   1.000000            1.000000            1.000000   \n",
              "max                   1.000000            1.000000            1.000000   \n",
              "\n",
              "       kitchen_luxury  child_friendly  safety_and_security  outdoor_space  \\\n",
              "count    24558.000000    24558.000000         24558.000000   24558.000000   \n",
              "mean         0.937454        0.322705             0.694275       0.172327   \n",
              "std          0.242149        0.467521             0.460723       0.377672   \n",
              "min          0.000000        0.000000             0.000000       0.000000   \n",
              "25%          1.000000        0.000000             0.000000       0.000000   \n",
              "50%          1.000000        0.000000             1.000000       0.000000   \n",
              "75%          1.000000        1.000000             1.000000       0.000000   \n",
              "max          1.000000        1.000000             1.000000       1.000000   \n",
              "\n",
              "                 tv  pets_allowed  bedding_essentials  bedding_luxury  \\\n",
              "count  24558.000000  24558.000000        24558.000000    24558.000000   \n",
              "mean       0.458181      0.163002            0.290374        0.159133   \n",
              "std        0.498258      0.369375            0.453944        0.365808   \n",
              "min        0.000000      0.000000            0.000000        0.000000   \n",
              "25%        0.000000      0.000000            0.000000        0.000000   \n",
              "50%        0.000000      0.000000            0.000000        0.000000   \n",
              "75%        1.000000      0.000000            1.000000        0.000000   \n",
              "max        1.000000      1.000000            1.000000        1.000000   \n",
              "\n",
              "       coffee_machine      internet      elevator  free_parking  \\\n",
              "count    24558.000000  24558.000000  24558.000000  24558.000000   \n",
              "mean         0.238619      0.961194      0.222534      0.308168   \n",
              "std          0.426248      0.193136      0.415957      0.461746   \n",
              "min          0.000000      0.000000      0.000000      0.000000   \n",
              "25%          0.000000      1.000000      0.000000      0.000000   \n",
              "50%          0.000000      1.000000      0.000000      0.000000   \n",
              "75%          0.000000      1.000000      0.000000      1.000000   \n",
              "max          1.000000      1.000000      1.000000      1.000000   \n",
              "\n",
              "       host_greeting  long_term_stays  luggage_dropoff         other  \\\n",
              "count   24558.000000     24558.000000     24558.000000  24558.000000   \n",
              "mean        0.249002         0.151356         0.142357      0.200505   \n",
              "std         0.432444         0.358403         0.349423      0.400386   \n",
              "min         0.000000         0.000000         0.000000      0.000000   \n",
              "25%         0.000000         0.000000         0.000000      0.000000   \n",
              "50%         0.000000         0.000000         0.000000      0.000000   \n",
              "75%         0.000000         0.000000         0.000000      0.000000   \n",
              "max         1.000000         1.000000         1.000000      1.000000   \n",
              "\n",
              "       paid_parking       privacy  smoking_allowed  \n",
              "count  24558.000000  24558.000000     24558.000000  \n",
              "mean       0.109252      0.232999         0.187352  \n",
              "std        0.311961      0.422750         0.390202  \n",
              "min        0.000000      0.000000         0.000000  \n",
              "25%        0.000000      0.000000         0.000000  \n",
              "50%        0.000000      0.000000         0.000000  \n",
              "75%        0.000000      0.000000         0.000000  \n",
              "max        1.000000      1.000000         1.000000  "
            ]
          },
          "metadata": {
            "tags": []
          },
          "execution_count": 106
        }
      ]
    },
    {
      "cell_type": "code",
      "metadata": {
        "id": "jI6ai7v_32s6",
        "colab_type": "code",
        "outputId": "397cc6d8-e47b-45ab-ba91-6898ae61e992",
        "colab": {
          "base_uri": "https://localhost:8080/",
          "height": 35
        }
      },
      "source": [
        "print(min(df.price), max(df.price))"
      ],
      "execution_count": 0,
      "outputs": [
        {
          "output_type": "stream",
          "text": [
            "0 8983\n"
          ],
          "name": "stdout"
        }
      ]
    },
    {
      "cell_type": "code",
      "metadata": {
        "id": "eWsyau8a4EQJ",
        "colab_type": "code",
        "outputId": "fa516ecd-e61e-4ae5-eb47-9654984445b7",
        "colab": {
          "base_uri": "https://localhost:8080/",
          "height": 297
        }
      },
      "source": [
        "### Distribution of prices from $0 to $1000\n",
        "plt.figure(figsize=(20,4))\n",
        "df.price.hist(bins=100, range=(0,1000))\n",
        "plt.margins(x=0)\n",
        "plt.title(\"Airbnb advertised nightly prices in Berlin up to $1000\", fontsize=16)\n",
        "plt.xlabel(\"Price ($)\")\n",
        "plt.ylabel(\"Number of listings\")\n",
        "plt.show()"
      ],
      "execution_count": 0,
      "outputs": [
        {
          "output_type": "display_data",
          "data": {
            "image/png": "[encoded data removed]",
            "text/plain": [
              "<Figure size 1440x288 with 1 Axes>"
            ]
          },
          "metadata": {
            "tags": []
          }
        }
      ]
    },
    {
      "cell_type": "code",
      "metadata": {
        "id": "Xqtady1U26U4",
        "colab_type": "code",
        "colab": {}
      },
      "source": [
        "## replace outlier values \n",
        "\n",
        "# Replacing values under £10 with £10\n",
        "df.loc[df.price <= 10, 'price'] = 10\n",
        "\n",
        "# Replacing values over £1000 with £1000\n",
        "df.loc[df.price >= 1000, 'price'] = 1000"
      ],
      "execution_count": 0,
      "outputs": []
    },
    {
      "cell_type": "code",
      "metadata": {
        "id": "szFyFJCI5Iw4",
        "colab_type": "code",
        "colab": {}
      },
      "source": [
        ""
      ],
      "execution_count": 0,
      "outputs": []
    },
    {
      "cell_type": "markdown",
      "metadata": {
        "id": "cIMTCkWE6Mj9",
        "colab_type": "text"
      },
      "source": [
        "## Getting data ready for machine learning"
      ]
    },
    {
      "cell_type": "code",
      "metadata": {
        "id": "TGz64y0R6PW6",
        "colab_type": "code",
        "colab": {}
      },
      "source": [
        "## one hot encoding\n",
        "transformed_df = pd.get_dummies(df)"
      ],
      "execution_count": 0,
      "outputs": []
    },
    {
      "cell_type": "code",
      "metadata": {
        "id": "SfEemEGi6lfw",
        "colab_type": "code",
        "colab": {}
      },
      "source": [
        "## Dropping collinear features\n",
        "to_drop = ['beds',\n",
        "           'bedrooms',\n",
        "           'guests_included', \n",
        "           'host_response_rate_unknown',\n",
        "           'host_response_rate_0-49%',\n",
        "           'property_type_Apartment',\n",
        "           'room_type_Private room']\n",
        "to_drop.extend(list(transformed_df.columns[transformed_df.columns.str.endswith('nan')]))\n",
        "\n",
        "transformed_df.drop(to_drop, axis=1, inplace=True)"
      ],
      "execution_count": 0,
      "outputs": []
    },
    {
      "cell_type": "code",
      "metadata": {
        "id": "Cf_6L0266mV3",
        "colab_type": "code",
        "colab": {}
      },
      "source": [
        "numerical_columns = ['accommodates', 'availability_90', 'bathrooms', 'cleaning_fee', 'extra_people', 'host_days_active', 'host_listings_count', 'maximum_nights', 'minimum_nights', 'number_of_reviews', 'price', 'security_deposit']"
      ],
      "execution_count": 0,
      "outputs": []
    },
    {
      "cell_type": "code",
      "metadata": {
        "id": "QBiwMU587Ghk",
        "colab_type": "code",
        "colab": {}
      },
      "source": [
        "## Log transforming columns\n",
        "numerical_columns = [i for i in numerical_columns if i not in ['availability_90', 'host_days_active']] # Removing items not to be transformed\n",
        "\n",
        "for col in numerical_columns:\n",
        "    transformed_df[col] = transformed_df[col].astype('float64').replace(0.0, 0.01) # Replacing 0s with 0.01\n",
        "    transformed_df[col] = np.log(transformed_df[col])"
      ],
      "execution_count": 0,
      "outputs": []
    },
    {
      "cell_type": "code",
      "metadata": {
        "id": "mTwXe9yO7RUf",
        "colab_type": "code",
        "colab": {}
      },
      "source": [
        "## split into features matrix and target vector\n",
        "\n",
        "# Separating X and y\n",
        "X = transformed_df.drop('price', axis=1)\n",
        "y = transformed_df.price\n",
        "\n",
        "# Scaling\n",
        "scaler = StandardScaler()\n",
        "X = pd.DataFrame(scaler.fit_transform(X), columns=list(X.columns))"
      ],
      "execution_count": 0,
      "outputs": []
    },
    {
      "cell_type": "markdown",
      "metadata": {
        "id": "jv69HcZL7vD-",
        "colab_type": "text"
      },
      "source": [
        "# Neural Network to predict Price"
      ]
    },
    {
      "cell_type": "code",
      "metadata": {
        "id": "LhbJSugw8KPC",
        "colab_type": "code",
        "colab": {}
      },
      "source": [
        "## train test split\n",
        "X_train, X_test, y_train, y_test = train_test_split(X, y, test_size=0.2, random_state=14)"
      ],
      "execution_count": 0,
      "outputs": []
    },
    {
      "cell_type": "code",
      "metadata": {
        "id": "ITG908BN7dGY",
        "colab_type": "code",
        "outputId": "9972ed7c-7549-4cb3-b1ff-35b72c6f3275",
        "colab": {
          "base_uri": "https://localhost:8080/",
          "height": 197
        }
      },
      "source": [
        "## baseline XGboost machien learning model\n",
        "\n",
        "xgb_reg_start = time.time()\n",
        "\n",
        "xgb_reg = xgb.XGBRegressor()\n",
        "xgb_reg.fit(X_train, y_train)\n",
        "training_preds_xgb_reg = xgb_reg.predict(X_train)\n",
        "val_preds_xgb_reg = xgb_reg.predict(X_test)\n",
        "\n",
        "xgb_reg_end = time.time()\n",
        "\n",
        "print(f\"Time taken to run: {round((xgb_reg_end - xgb_reg_start)/60,1)} minutes\")\n",
        "print(\"\\nTraining MSE:\", round(mean_squared_error(y_train, training_preds_xgb_reg),4))\n",
        "print(\"Validation MSE:\", round(mean_squared_error(y_test, val_preds_xgb_reg),4))\n",
        "print(\"\\nTraining r2:\", round(r2_score(y_train, training_preds_xgb_reg),4))\n",
        "print(\"Validation r2:\", round(r2_score(y_test, val_preds_xgb_reg),4))"
      ],
      "execution_count": 0,
      "outputs": [
        {
          "output_type": "stream",
          "text": [
            "/usr/local/lib/python3.6/dist-packages/xgboost/core.py:587: FutureWarning: Series.base is deprecated and will be removed in a future version\n",
            "  if getattr(data, 'base', None) is not None and \\\n"
          ],
          "name": "stderr"
        },
        {
          "output_type": "stream",
          "text": [
            "[17:54:39] WARNING: /workspace/src/objective/regression_obj.cu:152: reg:linear is now deprecated in favor of reg:squarederror.\n",
            "Time taken to run: 0.2 minutes\n",
            "\n",
            "Training MSE: 0.1475\n",
            "Validation MSE: 0.1553\n",
            "\n",
            "Training r2: 0.637\n",
            "Validation r2: 0.626\n"
          ],
          "name": "stdout"
        }
      ]
    },
    {
      "cell_type": "code",
      "metadata": {
        "id": "GKEKp0rV8E1y",
        "colab_type": "code",
        "outputId": "6c5c06d6-0f8d-405d-c952-949011c055c6",
        "colab": {
          "base_uri": "https://localhost:8080/",
          "height": 419
        }
      },
      "source": [
        "## plot feature importances\n",
        "ft_weights_xgb_reg = pd.DataFrame(xgb_reg.feature_importances_, columns=['weight'], index=X_train.columns)\n",
        "ft_weights_xgb_reg.sort_values('weight', inplace=True)\n",
        "ft_weights_xgb_reg"
      ],
      "execution_count": 0,
      "outputs": [
        {
          "output_type": "execute_result",
          "data": {
            "text/html": [
              "<div>\n",
              "<style scoped>\n",
              "    .dataframe tbody tr th:only-of-type {\n",
              "        vertical-align: middle;\n",
              "    }\n",
              "\n",
              "    .dataframe tbody tr th {\n",
              "        vertical-align: top;\n",
              "    }\n",
              "\n",
              "    .dataframe thead th {\n",
              "        text-align: right;\n",
              "    }\n",
              "</style>\n",
              "<table border=\"1\" class=\"dataframe\">\n",
              "  <thead>\n",
              "    <tr style=\"text-align: right;\">\n",
              "      <th></th>\n",
              "      <th>weight</th>\n",
              "    </tr>\n",
              "  </thead>\n",
              "  <tbody>\n",
              "    <tr>\n",
              "      <th>neighbourhood_cleansed_Lichtenrade</th>\n",
              "      <td>0.000000</td>\n",
              "    </tr>\n",
              "    <tr>\n",
              "      <th>neighbourhood_cleansed_Müggelheim</th>\n",
              "      <td>0.000000</td>\n",
              "    </tr>\n",
              "    <tr>\n",
              "      <th>neighbourhood_cleansed_Neu-Hohenschönhausen Nord</th>\n",
              "      <td>0.000000</td>\n",
              "    </tr>\n",
              "    <tr>\n",
              "      <th>neighbourhood_cleansed_Neu-Hohenschönhausen Süd</th>\n",
              "      <td>0.000000</td>\n",
              "    </tr>\n",
              "    <tr>\n",
              "      <th>neighbourhood_cleansed_Neue Kantstraße</th>\n",
              "      <td>0.000000</td>\n",
              "    </tr>\n",
              "    <tr>\n",
              "      <th>...</th>\n",
              "      <td>...</td>\n",
              "    </tr>\n",
              "    <tr>\n",
              "      <th>cleaning_fee</th>\n",
              "      <td>0.028755</td>\n",
              "    </tr>\n",
              "    <tr>\n",
              "      <th>bathrooms</th>\n",
              "      <td>0.029838</td>\n",
              "    </tr>\n",
              "    <tr>\n",
              "      <th>accommodates</th>\n",
              "      <td>0.055081</td>\n",
              "    </tr>\n",
              "    <tr>\n",
              "      <th>room_type_Hotel room</th>\n",
              "      <td>0.061449</td>\n",
              "    </tr>\n",
              "    <tr>\n",
              "      <th>room_type_Entire home/apt</th>\n",
              "      <td>0.425016</td>\n",
              "    </tr>\n",
              "  </tbody>\n",
              "</table>\n",
              "<p>225 rows × 1 columns</p>\n",
              "</div>"
            ],
            "text/plain": [
              "                                                    weight\n",
              "neighbourhood_cleansed_Lichtenrade                0.000000\n",
              "neighbourhood_cleansed_Müggelheim                 0.000000\n",
              "neighbourhood_cleansed_Neu-Hohenschönhausen Nord  0.000000\n",
              "neighbourhood_cleansed_Neu-Hohenschönhausen Süd   0.000000\n",
              "neighbourhood_cleansed_Neue Kantstraße            0.000000\n",
              "...                                                    ...\n",
              "cleaning_fee                                      0.028755\n",
              "bathrooms                                         0.029838\n",
              "accommodates                                      0.055081\n",
              "room_type_Hotel room                              0.061449\n",
              "room_type_Entire home/apt                         0.425016\n",
              "\n",
              "[225 rows x 1 columns]"
            ]
          },
          "metadata": {
            "tags": []
          },
          "execution_count": 117
        }
      ]
    },
    {
      "cell_type": "markdown",
      "metadata": {
        "id": "ymADX6s7C4QD",
        "colab_type": "text"
      },
      "source": [
        "## Save model to send to data engineers"
      ]
    },
    {
      "cell_type": "code",
      "metadata": {
        "id": "7yRGMzlKDlXo",
        "colab_type": "code",
        "outputId": "7f95623d-e291-4c71-8373-e877d1bcdb6c",
        "colab": {
          "base_uri": "https://localhost:8080/",
          "height": 35
        }
      },
      "source": [
        "pwd"
      ],
      "execution_count": 0,
      "outputs": [
        {
          "output_type": "execute_result",
          "data": {
            "text/plain": [
              "'/content'"
            ]
          },
          "metadata": {
            "tags": []
          },
          "execution_count": 121
        }
      ]
    },
    {
      "cell_type": "code",
      "metadata": {
        "id": "2qz1JCCtC99Y",
        "colab_type": "code",
        "colab": {}
      },
      "source": [
        "import pickle"
      ],
      "execution_count": 0,
      "outputs": []
    },
    {
      "cell_type": "code",
      "metadata": {
        "id": "Swo5VEHXZXeT",
        "colab_type": "code",
        "colab": {}
      },
      "source": [
        "pickle.dump(xgb_reg, open( \"model.pkl\", \"wb\" ) )"
      ],
      "execution_count": 0,
      "outputs": []
    },
    {
      "cell_type": "code",
      "metadata": {
        "id": "R7DxgB5DZgxb",
        "colab_type": "code",
        "colab": {}
      },
      "source": [
        "new = open(\"/content/model.pkl\", \"rb\")"
      ],
      "execution_count": 0,
      "outputs": []
    },
    {
      "cell_type": "code",
      "metadata": {
        "id": "59IwBMwyZjDH",
        "colab_type": "code",
        "outputId": "8b024116-40a6-43c4-f715-c1dc93faff6f",
        "colab": {
          "base_uri": "https://localhost:8080/",
          "height": 35
        }
      },
      "source": [
        "airbnb = pickle.load(new)"
      ],
      "execution_count": 0,
      "outputs": [
        {
          "output_type": "stream",
          "text": [
            "[17:58:43] WARNING: /workspace/src/objective/regression_obj.cu:152: reg:linear is now deprecated in favor of reg:squarederror.\n"
          ],
          "name": "stdout"
        }
      ]
    },
    {
      "cell_type": "code",
      "metadata": {
        "id": "iKDYGYYrZnb1",
        "colab_type": "code",
        "outputId": "d9ef1b49-c564-4403-ba3b-9787ffb23543",
        "colab": {
          "base_uri": "https://localhost:8080/",
          "height": 143
        }
      },
      "source": [
        "airbnb"
      ],
      "execution_count": 0,
      "outputs": [
        {
          "output_type": "execute_result",
          "data": {
            "text/plain": [
              "XGBRegressor(base_score=0.5, booster='gbtree', colsample_bylevel=1,\n",
              "             colsample_bynode=1, colsample_bytree=1, gamma=0,\n",
              "             importance_type='gain', learning_rate=0.1, max_delta_step=0,\n",
              "             max_depth=3, min_child_weight=1, missing=nan, n_estimators=100,\n",
              "             n_jobs=1, nthread=None, objective='reg:linear', random_state=0,\n",
              "             reg_alpha=0, reg_lambda=1, scale_pos_weight=1, seed=None,\n",
              "             silent=None, subsample=1, verbosity=1)"
            ]
          },
          "metadata": {
            "tags": []
          },
          "execution_count": 126
        }
      ]
    },
    {
      "cell_type": "code",
      "metadata": {
        "id": "392wIsMADKlH",
        "colab_type": "code",
        "colab": {}
      },
      "source": [
        "## commenting out so doesn't resave when running again\n",
        "'''\n",
        "with open('nn_model_pickle', 'wb') as f:\n",
        "  pickle.dump(nn, f)\n",
        "'''"
      ],
      "execution_count": 0,
      "outputs": []
    },
    {
      "cell_type": "code",
      "metadata": {
        "id": "FMvI4b6BEQQv",
        "colab_type": "code",
        "colab": {}
      },
      "source": [
        "## commenting out so doesn't resave when running again\n",
        "'''\n",
        "with open('processed_df_pickle', 'wb') as pickle_file:\n",
        "  pickle.dump(transformed_df, pickle_file)\n",
        "'''  "
      ],
      "execution_count": 0,
      "outputs": []
    },
    {
      "cell_type": "code",
      "metadata": {
        "id": "bdC5LXzwGDfU",
        "colab_type": "code",
        "colab": {}
      },
      "source": [
        ""
      ],
      "execution_count": 0,
      "outputs": []
    }
  ]
}